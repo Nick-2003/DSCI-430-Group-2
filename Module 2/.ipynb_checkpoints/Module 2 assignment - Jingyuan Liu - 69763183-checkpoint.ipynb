{
 "cells": [
  {
   "cell_type": "markdown",
   "id": "0583cc19-bc52-45ff-adb6-68c42d62dfb2",
   "metadata": {},
   "source": [
    "# Module 2 - Data collection, validation and privacy\n",
    "\n",
    "\n",
    "### Assignment overview\n",
    "\n",
    "In this assignment, you will be exploring various aspects related to collecting data and identifying bias in datasets. You will also be asked to consider issues of data privacy and governance.\n",
    "\n",
    "For this assignment, it is possible to work in **groups of up to 2 students**. \n",
    "\n",
    "### Group members\n",
    "Leave blanks if group has less than 2 members:\n",
    "- Student 1: Jingyuan Liu 69763183\n",
    "- Student 2: Nicholas Tam 45695970\n",
    "\n",
    "### Learning Goals:\n",
    "\n",
    "After completing this week's lecture and tutorial work, you will be able to:\n",
    "1. Discuss the implications of data governance and data ownership in data science  \n",
    "2. Argue the advantages and disadvantages of collecting individuals’ data online  \n",
    "3. Distinguish between a sample and a population, what attributes make a representative sample and the possible ethical implications of a non-representative sample  \n",
    "4. Explain the elements of experimental design \n",
    "5. Identify possible sources of bias in datasets (such as historical, measurement, and representation bias) \n",
    "6. Describe the ethical implications of variable choice in data science (e.g., use of proxies, use of gender and race as variables) \n",
    "7. Apply good practices for minimizing errors in data cleaning  \n",
    "8. Apply methods for improving privacy and anonymity in stored data and data analysis, such as k-anonymity and randomized response \n",
    "9. Explain the notion of differential privacy \n"
   ]
  },
  {
   "cell_type": "markdown",
   "id": "ca60784f-69dd-46f2-928a-db31b475362f",
   "metadata": {},
   "source": [
    "# Part 1: Data collection, sampling and bias"
   ]
  },
  {
   "cell_type": "markdown",
   "id": "dfa73180-0545-4c97-b1f2-f752e9be1c1c",
   "metadata": {},
   "source": [
    "In class, we discussed different sources of bias that can affect the data we want to use for our Data Science applications. Here is a summary:\n",
    "\n",
    "### 1. Historical bias\n",
    "**Historical bias:** bias that exists in society and is reflected in the data. It is the most insidious because it arises even if we are able to perfectly sample from the existing population. Most often, it affects groups that are historically disadvantaged.\n",
    "\n",
    "E.g. In 2018, 5% of Fortune 500 CEOs were women. Historically, women have less frequently made it to a CEO position. A classifier trained to predict the best choice for a new CEO may learn this pattern and determine that being a woman makes one less qualified to be a CEO.\n",
    "\n",
    "### 2. Representation bias\n",
    "**Representation bias:** the sample underrepresents part(s) of the population and fails to generalize well. This may happen for different reasons:\n",
    "\n",
    "1. The sampling methods only reached a portion of the population. E.g. Data collected via smartphone apps can under-represent lower incomes or older groups, who may be less likely to own smartphones.\n",
    "\n",
    "2. The population of interest has changed or is distinct from the sample used during model training. E.g. Data that is representative of Vancouver may not be representative if used to analyze the population in Toronto. Similarly, data representative of Vancouver 100 years ago may not reflect today's population. \n",
    "\n",
    "### 3. Measurement bias\n",
    "**Measurement bias:** it occurs when choosing features that fail to correctly represent the problem, or when there are issues with the data collection. Fore example:\n",
    "\n",
    "1. The measurement processes varies across groups. E.g. one group of workers is monitored more closely and thus more errors are observed in that group.\n",
    "\n",
    "2. The quality of data varies across groups. E.g. women often self-report less pain than men and are therefore less likely to receive certain diagnoses\n",
    "\n",
    "3. The defined classification task or one of the features used is an oversimplification. E.g. We are designing a model to predict whether a student will be successful in college. We choose to predict the final GPA as metric of success. This, however, ignores other indicators of success."
   ]
  },
  {
   "cell_type": "markdown",
   "id": "f3cc12fa-d15e-4e6a-af54-6d44af8a0ac2",
   "metadata": {},
   "source": [
    "**Question 1** \n",
    "\n",
    "Consider a crowd-sourcing project called [Street Bump](https://www.boston.gov/transportation/street-bump) aimed at helping improve neighbourhood streets in Boston from 2011 to 2014. Volunteers used a smartphone app, which captured GPS location and reported back to the city everytime the driver hit a pothole. The data was provided to governments so they could use the data to fix any road issues.\n",
    "\n",
    "Can you think of any sources of bias in the scenario above? Explain them. "
   ]
  },
  {
   "cell_type": "markdown",
   "id": "c1ee6fea-bd86-4b08-9657-80cb4408e55e",
   "metadata": {},
   "source": [
    "<span style=\"color:blue\"> \n",
    "There is a risk of representation bias, as the data will likely under-represent lower-income or older groups that are less likely to have smartphones, on top of the population of people that would be interested in volunteering potentially not being representative of the overall population. \n",
    "<br><br>There is also a risk of measurement bias, as road quality is determined by more attributes than potholes alone, such as effective drainage and traffic management. The frequency of drivers hitting potholes is also determined by other factors, such as the proficiency of the drivers themselves, or the location of the potholes. In other words, the feature used to determine the road quality is an oversimplification.\n",
    "</span>"
   ]
  },
  {
   "attachments": {},
   "cell_type": "markdown",
   "id": "74311bd8",
   "metadata": {},
   "source": [
    "## Observational and experimental studies\n",
    "\n",
    "- **Observational study:** study where there is no deliberate human intervention regarding the variable under investigation. Observational studies are ones where researchers observe the effect of a treatment/intervention without trying to change who is or isn’t exposed to it. In an observational study, the subjects are assigned or assign themselves to the exposure group they belong to.\n",
    "- **Experimental study:** : study that involves planned intervention on the exposure to a condition. In an experiment, subjects are assigned to a condition by the researcher and thus one can establish a cause-and-effect relationship when we see a difference in the outcome between the experimental groups. Randomizing study subjects balances any differences between treatment groups with respect to all variables except the condition of exposure."
   ]
  },
  {
   "cell_type": "markdown",
   "id": "f1668125-5dc0-4f5c-b1fe-5bbc05f33118",
   "metadata": {},
   "source": [
    "## A/B testing\n",
    "\n",
    "A/B testing can be considered the most basic kind of randomized controlled experiment. \n",
    "\n",
    "Complete the following reading, then answer the comprehension questions below: https://hbr.org/2017/06/a-refresher-on-ab-testing"
   ]
  },
  {
   "attachments": {},
   "cell_type": "markdown",
   "id": "e87eb16e",
   "metadata": {},
   "source": [
    "**Question 2**\n",
    "\n",
    "In the following table, select which statements are true or false:\n",
    "\n",
    "| Statement | True | False |\n",
    "| -------- | :------- | :------- |\n",
    "| A/B testing is an example of experimental study. |  ✔      |        | \n",
    "| Observational studies require subjects to not be informed that they are being studied. |        |      ✔  |  \n",
    "| Ethical experimental studies require genuine uncertainty about the benefits/harms of treatment or exposure (equipoise) |    ✔    |        | \n",
    "| A researcher is interested in studying the effects of certain dietary habits. They recruite people and, through a survey, they ask them to disclose their current dietary habits, on which bases they will be assigned to treatment or control group. This is an example of experimantal study. |        |    ✔    | \n",
    "| The control group and the exposed group must include different individuals. |        |   ✔     | \n",
    "| One of the main advantages of experimental studies is that they allow for better randomization. |     ✔   |        | \n",
    "\n"
   ]
  },
  {
   "cell_type": "markdown",
   "id": "0820c2d4-a51f-4895-b45b-6cc1d13c9ff5",
   "metadata": {},
   "source": [
    "**Question 3**\n",
    "\n",
    "Explain the role of blocking in A/B testing."
   ]
  },
  {
   "cell_type": "markdown",
   "id": "17d387a4-6bb5-42fa-a45d-ebefaaaf59de",
   "metadata": {},
   "source": [
    "<span style=\"color:blue\"> \n",
    "Blocking is defined as splitting the data by similarity in a factor that is of less interest, but will still heavily influence the success metric of our interest. For example, from the article, whether or not someone views a website on mobile or desktop influences the click rates on both versions of a website, but the groups of interest in the study are the two versions of our website, not the devices of users. In this case, we should first divide the users into two blocks, one for mobile users, and the other for desktop users. Then randomly assign users to each version within each block. Blocking in A/B testing allows for a more accurate reflection of the distinctions between the methods of interest.\n",
    "</span>"
   ]
  },
  {
   "cell_type": "markdown",
   "id": "9123b4e9-9080-40c4-8e19-bcb138f9e52a",
   "metadata": {},
   "source": [
    "**Question 4**\n",
    "\n",
    "The authors warn about observing too many metrics when running an A/B test. Why is that the case? What could happen if I ignore this warning?"
   ]
  },
  {
   "cell_type": "markdown",
   "id": "cb4c7a6d-55d5-4dce-a642-d0256c81cbd2",
   "metadata": {},
   "source": [
    "<span style=\"color:blue\"> \n",
    "Observing too many metrics runs the risk of observing \"spurious correlations\", where multiple variables are only seemingly correlated without being causally related. The more metrics we observe, the more likely we will see some statistically significant results that only happen by chance, which is as what Fund said \"random fluctuation\".\n",
    "<br><br>Ignoring the warning will lead to some incorrect or misleading conclusions, making the interpretation of results difficult due to too many metrics influencing changes in data all at once. For example, you may want to switch to the new version of the product because you found some metrics significant from the A/B testing. But if you have many metrics, it is more likely that some significant metrics occur only by chance. In this case, if you make a decision to switch the product to the new version based on this result, the new version may be as effective or less effective as the original one.\n",
    "</span>"
   ]
  },
  {
   "cell_type": "markdown",
   "id": "9e08fa4d-dc82-453a-bab3-4cd38dba22f9",
   "metadata": {},
   "source": [
    "**Question 5** \n",
    "\n",
    "You want to determine the size of the subscribe button on your website. You plan to evaluate the performance by the number of visitors who click on the button. To run the test, you show one set of users one version and collect information about the number of visitors who click on the button. One month later you show users another version where the only thing different is the size of the button. Based on this test, you determine that the second version had a higher number of visitors who clicked on the button. Can you conclude that this version of the website leads to a higher number of visitors clicking on the button? Briefly explain.  "
   ]
  },
  {
   "cell_type": "markdown",
   "id": "e447b136-f5fb-4ff3-8c6c-3e2c54a4b466",
   "metadata": {},
   "source": [
    "<span style=\"color:blue\"> \n",
    "I would argue that we cannot conclude that this version of the website leads to a higher number of visitors clicking on the button. There is no statistic provided to indicate that the difference in button clicks is statistically significant enough to reject the null hypothesis that the number of clicks for both websites is the same. More importantly, as the test was conducted in two different periods, there might be some other variables that could potentially influence the results also changing over time (i.e. users' mood, seasonal effect, etc). The data we collected for each version of the website may also be representative of different populations due to the difference in time frames, leading to representation bias. Therefore, we should conduct this test simultaneously by randomly assigning users to one of the versions, minimizing the effect of other variables on the result.\n",
    "</span>"
   ]
  },
  {
   "cell_type": "markdown",
   "id": "6b10e467-b8d7-4414-b911-8c43ec34174c",
   "metadata": {},
   "source": [
    "### Ethical A/B testing\n",
    "Ethical A/B testing still requires all the ethical considerations of any experimental study, such as informed consent or possibility to opt out. A notorious case of a company failing to meet ethics requirement in A/B testing is the infamous Facebook \"social contagion experiment\", in which almost 700,000 users were showed, for a week, only positive or only negative content, to see how this variation impacted their online behaviour. The selected users were not informed and could not opt out. Furthermore, their emotional state was affected. Facebook defended itself by saying that Facebook's Data Use Policy warns users that Facebook “may use the information we receive about you…for internal operations, including troubleshooting, data analysis, testing, research and service improvement”. This defense was largely rejected by the scientific community, which still considered the study as unethical. You can read more about this incident in this [article](https://www.theguardian.com/technology/2014/jun/30/facebook-emotion-study-breached-ethical-guidelines-researchers-say). "
   ]
  },
  {
   "cell_type": "markdown",
   "id": "1443e967-d4c2-4e07-936f-88287cc0dd79",
   "metadata": {},
   "source": [
    "## Case Study: National Institute of Justice's (NIJ) Recidivism Dataset \n",
    "\n",
    "We will now look at the NIJ's Recidivism data set, which contains data on 26,000 individuals from the State of Georgia released from prison on parole (early release from prison where the person agrees to abide by certain conditions) between January 1, 2013 and December 31, 2015. **Recidivism** is the act of committing another crime.\n",
    "\n",
    "This dataset is split into two sets, training and test, 70% of the data is in the training dataset and 30% in the test dataset. The training set contains four variables that measure recidivism: whether an individual recidivated within three years of the supervision start date and whether they recidivated in year 1, year 2, or year 3. In this data set, recidivism is defined as being arrested for a new crime during this three-year period. The test set does not include these four variables. \n",
    "\n",
    "The data was provided by the Georgia Department of Community Supervision (GDCS) and the Georgia Bureau of Investigation.\n",
    "\n",
    "*Source: https://data.ojp.usdoj.gov/stories/s/daxx-hznc*\n",
    "\n",
    "Let's start by familiarizing with the [dataset source](https://nij.ojp.gov/funding/recidivism-forecasting-challenge). The website includes a lot of information on the dataset and a detailed description of each of its columns (look for Appendix 2: Codebook).\n",
    "\n"
   ]
  },
  {
   "cell_type": "markdown",
   "id": "9731fcb9-4991-4835-9dd4-e62caa310a3e",
   "metadata": {},
   "source": [
    "**Question 6**\n",
    "Think about how the data set was collected and what we are trying to predict. Are there any potential sources of bias (historical, representation, measurement)? Explain your answer. "
   ]
  },
  {
   "cell_type": "markdown",
   "id": "2c4fb553-cbad-4ccd-9b37-9b1d6572edc5",
   "metadata": {},
   "source": [
    "* <span style=\"color:blue\"> Historical: The historical bias against some certain racial groups (i.e. Black people) can affect the performance of the model nowadays, reflecting past inequalities an unfairness. </span>\n",
    "* <span style=\"color:blue\"> Representation: The population of individuals used for model training would have changed over time, such as the proportions of people at certain ages on release, and thus may not be reflective of the current population of people on parole. In addition, the data only collects individuals from the State of Georgia, the people released from prison on parole from other states or countries may be underrepresented. Besides, the data was collected between 2013 and 2015, which may not be representative of the population of interests nowadays, due to social and political events and changes over time, such as COVID-19.</span>\n",
    "* <span style=\"color:blue\"> Measurement: The recidivism is defined as being arrested for a new crime during this three-year period in this study. However, it is possible that some individuals recidivated are not arrested. .Factors such as race and age may lead to the unfairness of measurements and quality of data between groups of individuals, such as stricter monitoring between those in the same supervision level due to racism or prioritization of criminal acts.  In other words, the feature used to determine recidivism is an oversimplification.</span>"
   ]
  },
  {
   "cell_type": "markdown",
   "id": "25aff775-5363-44bf-8e0e-59f96f215be0",
   "metadata": {},
   "source": [
    "### Question 7: Exploratory Data Analysis (EDA)\n",
    "\n",
    "We are now going to perform some Exploratory Data Analysis on the NIJ's Recidivism Training set. This will serve 2 purposes:\n",
    "- it will help us familiarize with the dataset\n",
    "- it will help us spot possible imbalances or sources of bias in the dataset\n",
    "\n",
    "You are free to use tools and functions of your choice to complete the EDA. Your goal is to answer the following questions:\n",
    "1. Does the dataset include protected characteristics? We recommend using the [BC Human Rights Code](http://www.bchrt.bc.ca/human-rights-duties/characteristics.htm) for reference.\n",
    "2. If the dataset includes protected characteristic, do you think they are necessary to perform the predictive task? Why or why not?\n",
    "3. If we were to remove the columns including protected characteristics, do you think it would still be possible to retrieve that information through other features (proxies)? Explain how.\n",
    "4. Is the target variable balanced? If not, what could happen?\n",
    "5. Is the target variable balanced *across protected segments of the population?* What could happen if this is not the case? \n",
    "6. Are there features with missing values? Do you suspect that they may be Missing Not At Random (MNAR), and if so, how would it be best to fill this information?\n",
    "\n",
    "**Notes:**\n",
    "- Bar charts and other plots are helpful to visually spot imbalances\n",
    "- You are encouraged to talk to the instructor and TA to discuss your EDA strategy and if you need suggestions with the code"
   ]
  },
  {
   "cell_type": "code",
   "execution_count": 1,
   "id": "98c7668d-2968-4850-b8f9-a00bb6e83239",
   "metadata": {
    "tags": []
   },
   "outputs": [
    {
     "data": {
      "text/html": [
       "<div>\n",
       "<style scoped>\n",
       "    .dataframe tbody tr th:only-of-type {\n",
       "        vertical-align: middle;\n",
       "    }\n",
       "\n",
       "    .dataframe tbody tr th {\n",
       "        vertical-align: top;\n",
       "    }\n",
       "\n",
       "    .dataframe thead th {\n",
       "        text-align: right;\n",
       "    }\n",
       "</style>\n",
       "<table border=\"1\" class=\"dataframe\">\n",
       "  <thead>\n",
       "    <tr style=\"text-align: right;\">\n",
       "      <th></th>\n",
       "      <th>ID</th>\n",
       "      <th>Gender</th>\n",
       "      <th>Race</th>\n",
       "      <th>Age_at_Release</th>\n",
       "      <th>Residence_PUMA</th>\n",
       "      <th>Gang_Affiliated</th>\n",
       "      <th>Supervision_Risk_Score_First</th>\n",
       "      <th>Supervision_Level_First</th>\n",
       "      <th>Education_Level</th>\n",
       "      <th>Dependents</th>\n",
       "      <th>...</th>\n",
       "      <th>DrugTests_Cocaine_Positive</th>\n",
       "      <th>DrugTests_Meth_Positive</th>\n",
       "      <th>DrugTests_Other_Positive</th>\n",
       "      <th>Percent_Days_Employed</th>\n",
       "      <th>Jobs_Per_Year</th>\n",
       "      <th>Employment_Exempt</th>\n",
       "      <th>Recidivism_Within_3years</th>\n",
       "      <th>Recidivism_Arrest_Year1</th>\n",
       "      <th>Recidivism_Arrest_Year2</th>\n",
       "      <th>Recidivism_Arrest_Year3</th>\n",
       "    </tr>\n",
       "  </thead>\n",
       "  <tbody>\n",
       "    <tr>\n",
       "      <th>0</th>\n",
       "      <td>1</td>\n",
       "      <td>M</td>\n",
       "      <td>BLACK</td>\n",
       "      <td>43-47</td>\n",
       "      <td>16</td>\n",
       "      <td>False</td>\n",
       "      <td>3.0</td>\n",
       "      <td>Standard</td>\n",
       "      <td>At least some college</td>\n",
       "      <td>3 or more</td>\n",
       "      <td>...</td>\n",
       "      <td>0.0</td>\n",
       "      <td>0.000000</td>\n",
       "      <td>0.0</td>\n",
       "      <td>0.488562</td>\n",
       "      <td>0.447610</td>\n",
       "      <td>False</td>\n",
       "      <td>False</td>\n",
       "      <td>False</td>\n",
       "      <td>False</td>\n",
       "      <td>False</td>\n",
       "    </tr>\n",
       "    <tr>\n",
       "      <th>1</th>\n",
       "      <td>2</td>\n",
       "      <td>M</td>\n",
       "      <td>BLACK</td>\n",
       "      <td>33-37</td>\n",
       "      <td>16</td>\n",
       "      <td>False</td>\n",
       "      <td>6.0</td>\n",
       "      <td>Specialized</td>\n",
       "      <td>Less than HS diploma</td>\n",
       "      <td>1</td>\n",
       "      <td>...</td>\n",
       "      <td>0.0</td>\n",
       "      <td>0.000000</td>\n",
       "      <td>0.0</td>\n",
       "      <td>0.425234</td>\n",
       "      <td>2.000000</td>\n",
       "      <td>False</td>\n",
       "      <td>True</td>\n",
       "      <td>False</td>\n",
       "      <td>False</td>\n",
       "      <td>True</td>\n",
       "    </tr>\n",
       "    <tr>\n",
       "      <th>2</th>\n",
       "      <td>3</td>\n",
       "      <td>M</td>\n",
       "      <td>BLACK</td>\n",
       "      <td>48 or older</td>\n",
       "      <td>24</td>\n",
       "      <td>False</td>\n",
       "      <td>7.0</td>\n",
       "      <td>High</td>\n",
       "      <td>At least some college</td>\n",
       "      <td>3 or more</td>\n",
       "      <td>...</td>\n",
       "      <td>0.0</td>\n",
       "      <td>0.166667</td>\n",
       "      <td>0.0</td>\n",
       "      <td>0.000000</td>\n",
       "      <td>0.000000</td>\n",
       "      <td>False</td>\n",
       "      <td>True</td>\n",
       "      <td>False</td>\n",
       "      <td>True</td>\n",
       "      <td>False</td>\n",
       "    </tr>\n",
       "    <tr>\n",
       "      <th>3</th>\n",
       "      <td>4</td>\n",
       "      <td>M</td>\n",
       "      <td>WHITE</td>\n",
       "      <td>38-42</td>\n",
       "      <td>16</td>\n",
       "      <td>False</td>\n",
       "      <td>7.0</td>\n",
       "      <td>High</td>\n",
       "      <td>Less than HS diploma</td>\n",
       "      <td>1</td>\n",
       "      <td>...</td>\n",
       "      <td>0.0</td>\n",
       "      <td>0.000000</td>\n",
       "      <td>0.0</td>\n",
       "      <td>1.000000</td>\n",
       "      <td>0.718996</td>\n",
       "      <td>False</td>\n",
       "      <td>False</td>\n",
       "      <td>False</td>\n",
       "      <td>False</td>\n",
       "      <td>False</td>\n",
       "    </tr>\n",
       "    <tr>\n",
       "      <th>4</th>\n",
       "      <td>5</td>\n",
       "      <td>M</td>\n",
       "      <td>WHITE</td>\n",
       "      <td>33-37</td>\n",
       "      <td>16</td>\n",
       "      <td>False</td>\n",
       "      <td>4.0</td>\n",
       "      <td>Specialized</td>\n",
       "      <td>Less than HS diploma</td>\n",
       "      <td>3 or more</td>\n",
       "      <td>...</td>\n",
       "      <td>0.0</td>\n",
       "      <td>0.058824</td>\n",
       "      <td>0.0</td>\n",
       "      <td>0.203562</td>\n",
       "      <td>0.929389</td>\n",
       "      <td>False</td>\n",
       "      <td>True</td>\n",
       "      <td>True</td>\n",
       "      <td>False</td>\n",
       "      <td>False</td>\n",
       "    </tr>\n",
       "  </tbody>\n",
       "</table>\n",
       "<p>5 rows × 53 columns</p>\n",
       "</div>"
      ],
      "text/plain": [
       "   ID Gender   Race Age_at_Release  Residence_PUMA Gang_Affiliated  \\\n",
       "0   1      M  BLACK          43-47              16           False   \n",
       "1   2      M  BLACK          33-37              16           False   \n",
       "2   3      M  BLACK    48 or older              24           False   \n",
       "3   4      M  WHITE          38-42              16           False   \n",
       "4   5      M  WHITE          33-37              16           False   \n",
       "\n",
       "   Supervision_Risk_Score_First Supervision_Level_First  \\\n",
       "0                           3.0                Standard   \n",
       "1                           6.0             Specialized   \n",
       "2                           7.0                    High   \n",
       "3                           7.0                    High   \n",
       "4                           4.0             Specialized   \n",
       "\n",
       "         Education_Level Dependents  ... DrugTests_Cocaine_Positive  \\\n",
       "0  At least some college  3 or more  ...                        0.0   \n",
       "1   Less than HS diploma          1  ...                        0.0   \n",
       "2  At least some college  3 or more  ...                        0.0   \n",
       "3   Less than HS diploma          1  ...                        0.0   \n",
       "4   Less than HS diploma  3 or more  ...                        0.0   \n",
       "\n",
       "  DrugTests_Meth_Positive DrugTests_Other_Positive Percent_Days_Employed  \\\n",
       "0                0.000000                      0.0              0.488562   \n",
       "1                0.000000                      0.0              0.425234   \n",
       "2                0.166667                      0.0              0.000000   \n",
       "3                0.000000                      0.0              1.000000   \n",
       "4                0.058824                      0.0              0.203562   \n",
       "\n",
       "  Jobs_Per_Year Employment_Exempt Recidivism_Within_3years  \\\n",
       "0      0.447610             False                    False   \n",
       "1      2.000000             False                     True   \n",
       "2      0.000000             False                     True   \n",
       "3      0.718996             False                    False   \n",
       "4      0.929389             False                     True   \n",
       "\n",
       "  Recidivism_Arrest_Year1  Recidivism_Arrest_Year2  Recidivism_Arrest_Year3  \n",
       "0                   False                    False                    False  \n",
       "1                   False                    False                     True  \n",
       "2                   False                     True                    False  \n",
       "3                   False                    False                    False  \n",
       "4                    True                    False                    False  \n",
       "\n",
       "[5 rows x 53 columns]"
      ]
     },
     "execution_count": 1,
     "metadata": {},
     "output_type": "execute_result"
    }
   ],
   "source": [
    "# Your solution here. You may add more code/markdown cells as needed. \n",
    "import pandas as pd\n",
    "\n",
    "train_df = pd.read_csv(\"NIJ_s_Recidivism_Challenge_Training_Dataset.csv\")\n",
    "train_df.head()"
   ]
  },
  {
   "cell_type": "code",
   "execution_count": 2,
   "id": "3df99652-0737-4a86-91d7-6895476cfed6",
   "metadata": {},
   "outputs": [
    {
     "data": {
      "text/html": [
       "<div>\n",
       "<style scoped>\n",
       "    .dataframe tbody tr th:only-of-type {\n",
       "        vertical-align: middle;\n",
       "    }\n",
       "\n",
       "    .dataframe tbody tr th {\n",
       "        vertical-align: top;\n",
       "    }\n",
       "\n",
       "    .dataframe thead th {\n",
       "        text-align: right;\n",
       "    }\n",
       "</style>\n",
       "<table border=\"1\" class=\"dataframe\">\n",
       "  <thead>\n",
       "    <tr style=\"text-align: right;\">\n",
       "      <th></th>\n",
       "      <th>ID</th>\n",
       "      <th>Residence_PUMA</th>\n",
       "      <th>Supervision_Risk_Score_First</th>\n",
       "      <th>Avg_Days_per_DrugTest</th>\n",
       "      <th>DrugTests_THC_Positive</th>\n",
       "      <th>DrugTests_Cocaine_Positive</th>\n",
       "      <th>DrugTests_Meth_Positive</th>\n",
       "      <th>DrugTests_Other_Positive</th>\n",
       "      <th>Percent_Days_Employed</th>\n",
       "      <th>Jobs_Per_Year</th>\n",
       "    </tr>\n",
       "  </thead>\n",
       "  <tbody>\n",
       "    <tr>\n",
       "      <th>count</th>\n",
       "      <td>18028.000000</td>\n",
       "      <td>18028.000000</td>\n",
       "      <td>17698.000000</td>\n",
       "      <td>13768.000000</td>\n",
       "      <td>14396.000000</td>\n",
       "      <td>14396.000000</td>\n",
       "      <td>14396.000000</td>\n",
       "      <td>14396.000000</td>\n",
       "      <td>17721.000000</td>\n",
       "      <td>17494.000000</td>\n",
       "    </tr>\n",
       "    <tr>\n",
       "      <th>mean</th>\n",
       "      <td>13386.065343</td>\n",
       "      <td>12.307577</td>\n",
       "      <td>6.064753</td>\n",
       "      <td>93.585860</td>\n",
       "      <td>0.063120</td>\n",
       "      <td>0.014173</td>\n",
       "      <td>0.012768</td>\n",
       "      <td>0.007681</td>\n",
       "      <td>0.480035</td>\n",
       "      <td>0.766423</td>\n",
       "    </tr>\n",
       "    <tr>\n",
       "      <th>std</th>\n",
       "      <td>7721.451992</td>\n",
       "      <td>7.143255</td>\n",
       "      <td>2.382811</td>\n",
       "      <td>117.561341</td>\n",
       "      <td>0.138357</td>\n",
       "      <td>0.063473</td>\n",
       "      <td>0.059572</td>\n",
       "      <td>0.042224</td>\n",
       "      <td>0.424396</td>\n",
       "      <td>0.813474</td>\n",
       "    </tr>\n",
       "    <tr>\n",
       "      <th>min</th>\n",
       "      <td>1.000000</td>\n",
       "      <td>1.000000</td>\n",
       "      <td>1.000000</td>\n",
       "      <td>0.500000</td>\n",
       "      <td>0.000000</td>\n",
       "      <td>0.000000</td>\n",
       "      <td>0.000000</td>\n",
       "      <td>0.000000</td>\n",
       "      <td>0.000000</td>\n",
       "      <td>0.000000</td>\n",
       "    </tr>\n",
       "    <tr>\n",
       "      <th>25%</th>\n",
       "      <td>6702.750000</td>\n",
       "      <td>6.000000</td>\n",
       "      <td>4.000000</td>\n",
       "      <td>28.666667</td>\n",
       "      <td>0.000000</td>\n",
       "      <td>0.000000</td>\n",
       "      <td>0.000000</td>\n",
       "      <td>0.000000</td>\n",
       "      <td>0.000000</td>\n",
       "      <td>0.000000</td>\n",
       "    </tr>\n",
       "    <tr>\n",
       "      <th>50%</th>\n",
       "      <td>13405.500000</td>\n",
       "      <td>12.000000</td>\n",
       "      <td>6.000000</td>\n",
       "      <td>55.000000</td>\n",
       "      <td>0.000000</td>\n",
       "      <td>0.000000</td>\n",
       "      <td>0.000000</td>\n",
       "      <td>0.000000</td>\n",
       "      <td>0.466543</td>\n",
       "      <td>0.636324</td>\n",
       "    </tr>\n",
       "    <tr>\n",
       "      <th>75%</th>\n",
       "      <td>20081.250000</td>\n",
       "      <td>18.000000</td>\n",
       "      <td>8.000000</td>\n",
       "      <td>110.000000</td>\n",
       "      <td>0.068242</td>\n",
       "      <td>0.000000</td>\n",
       "      <td>0.000000</td>\n",
       "      <td>0.000000</td>\n",
       "      <td>0.966184</td>\n",
       "      <td>1.000000</td>\n",
       "    </tr>\n",
       "    <tr>\n",
       "      <th>max</th>\n",
       "      <td>26761.000000</td>\n",
       "      <td>25.000000</td>\n",
       "      <td>10.000000</td>\n",
       "      <td>1087.000000</td>\n",
       "      <td>1.000000</td>\n",
       "      <td>1.000000</td>\n",
       "      <td>1.000000</td>\n",
       "      <td>1.000000</td>\n",
       "      <td>1.000000</td>\n",
       "      <td>8.000000</td>\n",
       "    </tr>\n",
       "  </tbody>\n",
       "</table>\n",
       "</div>"
      ],
      "text/plain": [
       "                 ID  Residence_PUMA  Supervision_Risk_Score_First  \\\n",
       "count  18028.000000    18028.000000                  17698.000000   \n",
       "mean   13386.065343       12.307577                      6.064753   \n",
       "std     7721.451992        7.143255                      2.382811   \n",
       "min        1.000000        1.000000                      1.000000   \n",
       "25%     6702.750000        6.000000                      4.000000   \n",
       "50%    13405.500000       12.000000                      6.000000   \n",
       "75%    20081.250000       18.000000                      8.000000   \n",
       "max    26761.000000       25.000000                     10.000000   \n",
       "\n",
       "       Avg_Days_per_DrugTest  DrugTests_THC_Positive  \\\n",
       "count           13768.000000            14396.000000   \n",
       "mean               93.585860                0.063120   \n",
       "std               117.561341                0.138357   \n",
       "min                 0.500000                0.000000   \n",
       "25%                28.666667                0.000000   \n",
       "50%                55.000000                0.000000   \n",
       "75%               110.000000                0.068242   \n",
       "max              1087.000000                1.000000   \n",
       "\n",
       "       DrugTests_Cocaine_Positive  DrugTests_Meth_Positive  \\\n",
       "count                14396.000000             14396.000000   \n",
       "mean                     0.014173                 0.012768   \n",
       "std                      0.063473                 0.059572   \n",
       "min                      0.000000                 0.000000   \n",
       "25%                      0.000000                 0.000000   \n",
       "50%                      0.000000                 0.000000   \n",
       "75%                      0.000000                 0.000000   \n",
       "max                      1.000000                 1.000000   \n",
       "\n",
       "       DrugTests_Other_Positive  Percent_Days_Employed  Jobs_Per_Year  \n",
       "count              14396.000000           17721.000000   17494.000000  \n",
       "mean                   0.007681               0.480035       0.766423  \n",
       "std                    0.042224               0.424396       0.813474  \n",
       "min                    0.000000               0.000000       0.000000  \n",
       "25%                    0.000000               0.000000       0.000000  \n",
       "50%                    0.000000               0.466543       0.636324  \n",
       "75%                    0.000000               0.966184       1.000000  \n",
       "max                    1.000000               1.000000       8.000000  "
      ]
     },
     "metadata": {},
     "output_type": "display_data"
    }
   ],
   "source": [
    "display(train_df.describe()) "
   ]
  },
  {
   "cell_type": "code",
   "execution_count": 3,
   "id": "c6ec7c85-c00e-41cf-a861-10e7a1273927",
   "metadata": {},
   "outputs": [
    {
     "name": "stdout",
     "output_type": "stream",
     "text": [
      "<class 'pandas.core.frame.DataFrame'>\n",
      "RangeIndex: 18028 entries, 0 to 18027\n",
      "Data columns (total 53 columns):\n",
      " #   Column                                             Non-Null Count  Dtype  \n",
      "---  ------                                             --------------  -----  \n",
      " 0   ID                                                 18028 non-null  int64  \n",
      " 1   Gender                                             18028 non-null  object \n",
      " 2   Race                                               18028 non-null  object \n",
      " 3   Age_at_Release                                     18028 non-null  object \n",
      " 4   Residence_PUMA                                     18028 non-null  int64  \n",
      " 5   Gang_Affiliated                                    15811 non-null  object \n",
      " 6   Supervision_Risk_Score_First                       17698 non-null  float64\n",
      " 7   Supervision_Level_First                            16816 non-null  object \n",
      " 8   Education_Level                                    18028 non-null  object \n",
      " 9   Dependents                                         18028 non-null  object \n",
      " 10  Prison_Offense                                     15707 non-null  object \n",
      " 11  Prison_Years                                       18028 non-null  object \n",
      " 12  Prior_Arrest_Episodes_Felony                       18028 non-null  object \n",
      " 13  Prior_Arrest_Episodes_Misd                         18028 non-null  object \n",
      " 14  Prior_Arrest_Episodes_Violent                      18028 non-null  object \n",
      " 15  Prior_Arrest_Episodes_Property                     18028 non-null  object \n",
      " 16  Prior_Arrest_Episodes_Drug                         18028 non-null  object \n",
      " 17  Prior_Arrest_Episodes_PPViolationCharges           18028 non-null  object \n",
      " 18  Prior_Arrest_Episodes_DVCharges                    18028 non-null  bool   \n",
      " 19  Prior_Arrest_Episodes_GunCharges                   18028 non-null  bool   \n",
      " 20  Prior_Conviction_Episodes_Felony                   18028 non-null  object \n",
      " 21  Prior_Conviction_Episodes_Misd                     18028 non-null  object \n",
      " 22  Prior_Conviction_Episodes_Viol                     18028 non-null  bool   \n",
      " 23  Prior_Conviction_Episodes_Prop                     18028 non-null  object \n",
      " 24  Prior_Conviction_Episodes_Drug                     18028 non-null  object \n",
      " 25  Prior_Conviction_Episodes_PPViolationCharges       18028 non-null  bool   \n",
      " 26  Prior_Conviction_Episodes_DomesticViolenceCharges  18028 non-null  bool   \n",
      " 27  Prior_Conviction_Episodes_GunCharges               18028 non-null  bool   \n",
      " 28  Prior_Revocations_Parole                           18028 non-null  bool   \n",
      " 29  Prior_Revocations_Probation                        18028 non-null  bool   \n",
      " 30  Condition_MH_SA                                    18028 non-null  bool   \n",
      " 31  Condition_Cog_Ed                                   18028 non-null  bool   \n",
      " 32  Condition_Other                                    18028 non-null  bool   \n",
      " 33  Violations_ElectronicMonitoring                    18028 non-null  bool   \n",
      " 34  Violations_Instruction                             18028 non-null  bool   \n",
      " 35  Violations_FailToReport                            18028 non-null  bool   \n",
      " 36  Violations_MoveWithoutPermission                   18028 non-null  bool   \n",
      " 37  Delinquency_Reports                                18028 non-null  object \n",
      " 38  Program_Attendances                                18028 non-null  object \n",
      " 39  Program_UnexcusedAbsences                          18028 non-null  object \n",
      " 40  Residence_Changes                                  18028 non-null  object \n",
      " 41  Avg_Days_per_DrugTest                              13768 non-null  float64\n",
      " 42  DrugTests_THC_Positive                             14396 non-null  float64\n",
      " 43  DrugTests_Cocaine_Positive                         14396 non-null  float64\n",
      " 44  DrugTests_Meth_Positive                            14396 non-null  float64\n",
      " 45  DrugTests_Other_Positive                           14396 non-null  float64\n",
      " 46  Percent_Days_Employed                              17721 non-null  float64\n",
      " 47  Jobs_Per_Year                                      17494 non-null  float64\n",
      " 48  Employment_Exempt                                  18028 non-null  bool   \n",
      " 49  Recidivism_Within_3years                           18028 non-null  bool   \n",
      " 50  Recidivism_Arrest_Year1                            18028 non-null  bool   \n",
      " 51  Recidivism_Arrest_Year2                            18028 non-null  bool   \n",
      " 52  Recidivism_Arrest_Year3                            18028 non-null  bool   \n",
      "dtypes: bool(20), float64(8), int64(2), object(23)\n",
      "memory usage: 4.9+ MB\n"
     ]
    },
    {
     "data": {
      "text/plain": [
       "None"
      ]
     },
     "metadata": {},
     "output_type": "display_data"
    }
   ],
   "source": [
    "# 1, 2: Protected charactersitics\n",
    "display(train_df.info())"
   ]
  },
  {
   "cell_type": "markdown",
   "id": "9074d453-493c-43be-9398-26ab12b15c49",
   "metadata": {},
   "source": [
    "<span style=\"color:blue\">Q7.1: From the list of columns provided by `train_df.info()`, the columns that likely include protected characteristics are `Gender`, `Race`, `Age_at_Release`, `Dependents`, and the characteristics involving prior arrests, convictions and revocations (`Prior_Arrest_Episodes_Felony`, `Prior_Arrest_Episodes_Misdemeanor`, `Prior_Arrest_Episodes_Violent`, `Prior_Arrest_Episodes_Property`, `Prior_Arrest_Episodes_Drug`, `Prior_Arrest_Episodes_PPViolationCharges`, `Prior_Arrest_Episodes_DomesticViolenceCharges`, `Prior_Arrest_Episodes_GunCharges`, `Prior_Conviction_Episodes_Felony`, `Prior_Conviction_Episodes_Misdemeanor`, `Prior_Conviction_Episodes_Violent`, `Prior_Conviction_Episodes_Property`, `Prior_Conviction_Episodes_Drug`, `Prior_Conviction_Episodes_PPViolationCharges`, `Prior_Conviction_Episodes_DomesticViolenceCharges`, `Prior_Conviction_Episodes_GunCharges`, `Prior_Revocations_Parole`, and `Prior_Revocations_Probation`).</span>\n",
    "<br>\n",
    "<span style=\"color:blue\">Q7.2: The `Gender`, `Race`, `Age_at_Release`, and `Dependents` characteristics are unnecessary as they appear to only be indirectly correlated to their probability of a person undergoing recidivism. The characteristics relating to prior arrests, convictions, and revocations appear to be more directly related to a person recommitting crimes and thus may be necessary for the predictive task.</span>\n",
    "<br> \n",
    "<span style=\"color:blue\">Q7.3: It could be possible to retieve an individual's `Age_at_Release`, `Prior_Arrest_Episodes_Drug`, and `Prior_Conviction_Episodes_Drug`. The former characteristic could be inferred from characteristics that would likely tie to someone's work such as `Percent_Days_Employed` and `Jobs_Per_Year`, under the assumption that a younger individual would likely have lower values for both of those characteristics. The latter two characteristics are potentially associated with other characteristics involving drug testing, as individuals with a history of drug abuse would likely be closely monitored for potential relapses.</span>"
   ]
  },
  {
   "cell_type": "code",
   "execution_count": 4,
   "id": "ed98da3b-5955-4b42-8312-ed5e71a7fdb0",
   "metadata": {},
   "outputs": [
    {
     "data": {
      "text/plain": [
       "Recidivism_Within_3years\n",
       "True     0.578045\n",
       "False    0.421955\n",
       "Name: proportion, dtype: float64"
      ]
     },
     "metadata": {},
     "output_type": "display_data"
    },
    {
     "data": {
      "text/plain": [
       "Recidivism_Arrest_Year1\n",
       "False    0.701742\n",
       "True     0.298258\n",
       "Name: proportion, dtype: float64"
      ]
     },
     "metadata": {},
     "output_type": "display_data"
    },
    {
     "data": {
      "text/plain": [
       "Recidivism_Arrest_Year2\n",
       "False    0.819558\n",
       "True     0.180442\n",
       "Name: proportion, dtype: float64"
      ]
     },
     "metadata": {},
     "output_type": "display_data"
    },
    {
     "data": {
      "text/plain": [
       "Recidivism_Arrest_Year3\n",
       "False    0.900655\n",
       "True     0.099345\n",
       "Name: proportion, dtype: float64"
      ]
     },
     "metadata": {},
     "output_type": "display_data"
    }
   ],
   "source": [
    "# 4: Check if the class distribution is balanced \n",
    "display(train_df[\"Recidivism_Within_3years\"].value_counts(normalize=True), \n",
    "        train_df[\"Recidivism_Arrest_Year1\"].value_counts(normalize=True),\n",
    "        train_df[\"Recidivism_Arrest_Year2\"].value_counts(normalize=True),\n",
    "        train_df[\"Recidivism_Arrest_Year3\"].value_counts(normalize=True))"
   ]
  },
  {
   "cell_type": "markdown",
   "id": "4498eb1d-e2bb-4c82-92ad-e7f7d797316d",
   "metadata": {},
   "source": [
    "<span style=\"color:blue\">Q7.4: The target variable `Recidivism_Within_3years` is not balanced, with 57.8% of samples having `Recidivism_Within_3years == True`, and 42.2% of samples having `Recidivism_Within_3years == False`. The proportions of recidivism in each of the trees are not balanced either. As a result, the model may have biased predictive results in favor of the more frequent class of the target variable.</span> "
   ]
  },
  {
   "cell_type": "code",
   "execution_count": 5,
   "id": "29ed0e53-9d1e-40ec-b079-ae537a09e3f0",
   "metadata": {},
   "outputs": [
    {
     "name": "stdout",
     "output_type": "stream",
     "text": [
      "Recidivism_Within_3years for gender:M\n"
     ]
    },
    {
     "data": {
      "text/plain": [
       "Recidivism_Within_3years\n",
       "True     0.595155\n",
       "False    0.404845\n",
       "Name: proportion, dtype: float64"
      ]
     },
     "metadata": {},
     "output_type": "display_data"
    },
    {
     "name": "stdout",
     "output_type": "stream",
     "text": [
      "Recidivism_Within_3years for gender:F\n"
     ]
    },
    {
     "data": {
      "text/plain": [
       "Recidivism_Within_3years\n",
       "False    0.543978\n",
       "True     0.456022\n",
       "Name: proportion, dtype: float64"
      ]
     },
     "metadata": {},
     "output_type": "display_data"
    },
    {
     "name": "stdout",
     "output_type": "stream",
     "text": [
      "Recidivism_Within_3years for race:BLACK\n"
     ]
    },
    {
     "data": {
      "text/plain": [
       "Recidivism_Within_3years\n",
       "True     0.589159\n",
       "False    0.410841\n",
       "Name: proportion, dtype: float64"
      ]
     },
     "metadata": {},
     "output_type": "display_data"
    },
    {
     "name": "stdout",
     "output_type": "stream",
     "text": [
      "Recidivism_Within_3years for race:WHITE\n"
     ]
    },
    {
     "data": {
      "text/plain": [
       "Recidivism_Within_3years\n",
       "True     0.563189\n",
       "False    0.436811\n",
       "Name: proportion, dtype: float64"
      ]
     },
     "metadata": {},
     "output_type": "display_data"
    },
    {
     "name": "stdout",
     "output_type": "stream",
     "text": [
      "Recidivism_Within_3years for age group:43-47\n"
     ]
    },
    {
     "data": {
      "text/plain": [
       "Recidivism_Within_3years\n",
       "True     0.503229\n",
       "False    0.496771\n",
       "Name: proportion, dtype: float64"
      ]
     },
     "metadata": {},
     "output_type": "display_data"
    },
    {
     "name": "stdout",
     "output_type": "stream",
     "text": [
      "Recidivism_Within_3years for age group:33-37\n"
     ]
    },
    {
     "data": {
      "text/plain": [
       "Recidivism_Within_3years\n",
       "True     0.57479\n",
       "False    0.42521\n",
       "Name: proportion, dtype: float64"
      ]
     },
     "metadata": {},
     "output_type": "display_data"
    },
    {
     "name": "stdout",
     "output_type": "stream",
     "text": [
      "Recidivism_Within_3years for age group:48 or older\n"
     ]
    },
    {
     "data": {
      "text/plain": [
       "Recidivism_Within_3years\n",
       "False    0.587656\n",
       "True     0.412344\n",
       "Name: proportion, dtype: float64"
      ]
     },
     "metadata": {},
     "output_type": "display_data"
    },
    {
     "name": "stdout",
     "output_type": "stream",
     "text": [
      "Recidivism_Within_3years for age group:38-42\n"
     ]
    },
    {
     "data": {
      "text/plain": [
       "Recidivism_Within_3years\n",
       "True     0.537745\n",
       "False    0.462255\n",
       "Name: proportion, dtype: float64"
      ]
     },
     "metadata": {},
     "output_type": "display_data"
    },
    {
     "name": "stdout",
     "output_type": "stream",
     "text": [
      "Recidivism_Within_3years for age group:18-22\n"
     ]
    },
    {
     "data": {
      "text/plain": [
       "Recidivism_Within_3years\n",
       "True     0.719395\n",
       "False    0.280605\n",
       "Name: proportion, dtype: float64"
      ]
     },
     "metadata": {},
     "output_type": "display_data"
    },
    {
     "name": "stdout",
     "output_type": "stream",
     "text": [
      "Recidivism_Within_3years for age group:23-27\n"
     ]
    },
    {
     "data": {
      "text/plain": [
       "Recidivism_Within_3years\n",
       "True     0.666574\n",
       "False    0.333426\n",
       "Name: proportion, dtype: float64"
      ]
     },
     "metadata": {},
     "output_type": "display_data"
    },
    {
     "name": "stdout",
     "output_type": "stream",
     "text": [
      "Recidivism_Within_3years for age group:28-32\n"
     ]
    },
    {
     "data": {
      "text/plain": [
       "Recidivism_Within_3years\n",
       "True     0.6196\n",
       "False    0.3804\n",
       "Name: proportion, dtype: float64"
      ]
     },
     "metadata": {},
     "output_type": "display_data"
    },
    {
     "name": "stdout",
     "output_type": "stream",
     "text": [
      "Recidivism_Within_3years for dependent groups:3 or more\n"
     ]
    },
    {
     "data": {
      "text/plain": [
       "Recidivism_Within_3years\n",
       "True     0.54828\n",
       "False    0.45172\n",
       "Name: proportion, dtype: float64"
      ]
     },
     "metadata": {},
     "output_type": "display_data"
    },
    {
     "name": "stdout",
     "output_type": "stream",
     "text": [
      "Recidivism_Within_3years for dependent groups:1\n"
     ]
    },
    {
     "data": {
      "text/plain": [
       "Recidivism_Within_3years\n",
       "True     0.605972\n",
       "False    0.394028\n",
       "Name: proportion, dtype: float64"
      ]
     },
     "metadata": {},
     "output_type": "display_data"
    },
    {
     "name": "stdout",
     "output_type": "stream",
     "text": [
      "Recidivism_Within_3years for dependent groups:2\n"
     ]
    },
    {
     "data": {
      "text/plain": [
       "Recidivism_Within_3years\n",
       "True     0.582845\n",
       "False    0.417155\n",
       "Name: proportion, dtype: float64"
      ]
     },
     "metadata": {},
     "output_type": "display_data"
    },
    {
     "name": "stdout",
     "output_type": "stream",
     "text": [
      "Recidivism_Within_3years for dependent groups:0\n"
     ]
    },
    {
     "data": {
      "text/plain": [
       "Recidivism_Within_3years\n",
       "True     0.585462\n",
       "False    0.414538\n",
       "Name: proportion, dtype: float64"
      ]
     },
     "metadata": {},
     "output_type": "display_data"
    }
   ],
   "source": [
    "# 5: Check if class distribution is balanced within protected segments\n",
    "for gender in train_df[\"Gender\"].unique():\n",
    "    print(\"Recidivism_Within_3years for gender:\" + gender)\n",
    "    display(train_df[train_df[\"Gender\"] == gender][\"Recidivism_Within_3years\"].value_counts(normalize=True))\n",
    "\n",
    "for race in train_df[\"Race\"].unique():\n",
    "    print(\"Recidivism_Within_3years for race:\" + race)\n",
    "    display(train_df[train_df[\"Race\"] == race][\"Recidivism_Within_3years\"].value_counts(normalize=True))\n",
    "\n",
    "for age in train_df[\"Age_at_Release\"].unique():\n",
    "    print(\"Recidivism_Within_3years for age group:\" + age)\n",
    "    display(train_df[train_df[\"Age_at_Release\"] == age][\"Recidivism_Within_3years\"].value_counts(normalize=True))\n",
    "\n",
    "for dep in train_df[\"Dependents\"].unique():\n",
    "    print(\"Recidivism_Within_3years for dependent groups:\" + dep)\n",
    "    display(train_df[train_df[\"Dependents\"] == dep][\"Recidivism_Within_3years\"].value_counts(normalize=True))"
   ]
  },
  {
   "cell_type": "markdown",
   "id": "5574e34a-6aa5-4766-9f29-3f07185669d5",
   "metadata": {},
   "source": [
    "<span style=\"color:blue\">Q7.5: The target variable `Recidivism_Within_3years` is not balanced across most protected segments, nor are the distributions of each `Recidivism_Within_3years` category equal across each level of protected segments. For instance, the proportion of `Recidivism_Within_3years` being true is 59.5% among male individuals and 54.4% among female individuals; the proportion of `Recidivism_Within_3years` being true is 72% among age group:18-22 individuals and 50% among age group:43-47 individuals. This runs the risk of differential treatment and measurement of recidivism between categories of protected characteristics and increases the predictive bias against certain groups under protected characteristics</span> "
   ]
  },
  {
   "cell_type": "code",
   "execution_count": 6,
   "id": "41e459c4-0c69-4ac6-aa98-fc078c2dde49",
   "metadata": {},
   "outputs": [
    {
     "data": {
      "text/plain": [
       "ID                                                   False\n",
       "Gender                                               False\n",
       "Race                                                 False\n",
       "Age_at_Release                                       False\n",
       "Residence_PUMA                                       False\n",
       "Gang_Affiliated                                       True\n",
       "Supervision_Risk_Score_First                          True\n",
       "Supervision_Level_First                               True\n",
       "Education_Level                                      False\n",
       "Dependents                                           False\n",
       "Prison_Offense                                        True\n",
       "Prison_Years                                         False\n",
       "Prior_Arrest_Episodes_Felony                         False\n",
       "Prior_Arrest_Episodes_Misd                           False\n",
       "Prior_Arrest_Episodes_Violent                        False\n",
       "Prior_Arrest_Episodes_Property                       False\n",
       "Prior_Arrest_Episodes_Drug                           False\n",
       "Prior_Arrest_Episodes_PPViolationCharges             False\n",
       "Prior_Arrest_Episodes_DVCharges                      False\n",
       "Prior_Arrest_Episodes_GunCharges                     False\n",
       "Prior_Conviction_Episodes_Felony                     False\n",
       "Prior_Conviction_Episodes_Misd                       False\n",
       "Prior_Conviction_Episodes_Viol                       False\n",
       "Prior_Conviction_Episodes_Prop                       False\n",
       "Prior_Conviction_Episodes_Drug                       False\n",
       "Prior_Conviction_Episodes_PPViolationCharges         False\n",
       "Prior_Conviction_Episodes_DomesticViolenceCharges    False\n",
       "Prior_Conviction_Episodes_GunCharges                 False\n",
       "Prior_Revocations_Parole                             False\n",
       "Prior_Revocations_Probation                          False\n",
       "Condition_MH_SA                                      False\n",
       "Condition_Cog_Ed                                     False\n",
       "Condition_Other                                      False\n",
       "Violations_ElectronicMonitoring                      False\n",
       "Violations_Instruction                               False\n",
       "Violations_FailToReport                              False\n",
       "Violations_MoveWithoutPermission                     False\n",
       "Delinquency_Reports                                  False\n",
       "Program_Attendances                                  False\n",
       "Program_UnexcusedAbsences                            False\n",
       "Residence_Changes                                    False\n",
       "Avg_Days_per_DrugTest                                 True\n",
       "DrugTests_THC_Positive                                True\n",
       "DrugTests_Cocaine_Positive                            True\n",
       "DrugTests_Meth_Positive                               True\n",
       "DrugTests_Other_Positive                              True\n",
       "Percent_Days_Employed                                 True\n",
       "Jobs_Per_Year                                         True\n",
       "Employment_Exempt                                    False\n",
       "Recidivism_Within_3years                             False\n",
       "Recidivism_Arrest_Year1                              False\n",
       "Recidivism_Arrest_Year2                              False\n",
       "Recidivism_Arrest_Year3                              False\n",
       "dtype: bool"
      ]
     },
     "metadata": {},
     "output_type": "display_data"
    }
   ],
   "source": [
    "# 6: Presence of NaN \n",
    "# https://stackoverflow.com/questions/36226083/how-to-find-which-columns-contain-any-nan-value-in-pandas-dataframe\n",
    "display(train_df.isna().any())"
   ]
  },
  {
   "cell_type": "markdown",
   "id": "00d7c837-d1e0-492b-a3e6-63029cb23503",
   "metadata": {},
   "source": [
    "<span style=\"color:blue\">Q7.6: The columns `Gang_Affiliated`, `Supervision_Risk_Score_First`, `Supervision_Level_First`, `Prison_Offense`, `Avg_Days_per_DrugTest`, `DrugTests_THC_Positive`, `DrugTests_Cocaine_Positive`, `DrugTests_Meth_Positive`, `DrugTests_Other_Positive`, `Percent_Days_Employed`, and `Jobs_Per_Year` contain missing values. Of these characteristics, `Gang_Affiliated`, `Supervision_Risk_Score_First`, `Supervision_Level_First`, and `Prison_Offense` are categorical, while the rest are numerical. The variables `Gang_Affiliated`, `Avg_Days_per_DrugTest`, and `Jobs_Per_Year` may be MNAR, as they may not applicable to the individual (e.g. `Avg_Days_per_DrugTest` for someone that never got tested for drugs in the first place), or actively refused to disclose such information (e.g. `Gang_Affiliated`). `Gang_Affiliated` and `Prison_Offense` can have their information filled by creating/using a separate \"Other\" category, while `Avg_Days_per_DrugTest` can be filled with a default value of 0 to indicate a lack of drug testing in the first place.</span> "
   ]
  },
  {
   "cell_type": "markdown",
   "id": "33debfe2-24fe-47c6-88b2-d7e9a3f0e586",
   "metadata": {},
   "source": [
    "# Part 2: Privacy\n",
    "\n"
   ]
  },
  {
   "cell_type": "markdown",
   "id": "13990747-b2a7-4e80-83de-98f1446d68d5",
   "metadata": {},
   "source": [
    "When collecting data for a study, privacy is almost always a primary concern. Our data set may include information that makes it possible to identify an individual, including:\n",
    "\n",
    "- **Direct identifiers**, which are the ones that can be used to uniquely identify an individual or a household in a dataset, such as a record ID number, patient number, social insurance number, full address, etc. Usually, name is also considered a direct identifier (although several people can have the same name). Other features such as age, date of birth, or postal code are not sufficient on their own to uniquely identify an individual and would not be considered direct identifiers.\n",
    "- **Indirect (or quasi) identifiers**, which are the columns that do not themselves identify any individual or household, but can do so when combined with other indirect-identifiers. For example, postal code and date of birth are often indirect identifiers, because it is very likely that within a zip code only one individual has this particular birth date. The more indirect identifiers that you have, the more likely it is that individuals become identifiable because there are more possible unique combinations of identifying features.\n",
    "\n",
    "### Question 8\n",
    "1. Which columns in the NIJ dataset are direct identifiers? Briefly motivate your answer.\n",
    "2. Which of the remaining columns make good candidates for indirect identifiers? Which ones do not?\n",
    "\n",
    "Hint: It can be useful to use the `nunique()` and `value_counts()` dataframe methods to get an idea of how many distinct values a feature has.\n"
   ]
  },
  {
   "cell_type": "code",
   "execution_count": 7,
   "id": "e53c05a5-0137-4285-b395-61e1b75099b7",
   "metadata": {
    "tags": []
   },
   "outputs": [
    {
     "data": {
      "text/plain": [
       "ID                                                   18028\n",
       "Gender                                                   2\n",
       "Race                                                     2\n",
       "Age_at_Release                                           7\n",
       "Residence_PUMA                                          25\n",
       "Gang_Affiliated                                          2\n",
       "Supervision_Risk_Score_First                            10\n",
       "Supervision_Level_First                                  3\n",
       "Education_Level                                          3\n",
       "Dependents                                               4\n",
       "Prison_Offense                                           5\n",
       "Prison_Years                                             4\n",
       "Prior_Arrest_Episodes_Felony                            11\n",
       "Prior_Arrest_Episodes_Misd                               7\n",
       "Prior_Arrest_Episodes_Violent                            4\n",
       "Prior_Arrest_Episodes_Property                           6\n",
       "Prior_Arrest_Episodes_Drug                               6\n",
       "Prior_Arrest_Episodes_PPViolationCharges                 6\n",
       "Prior_Arrest_Episodes_DVCharges                          2\n",
       "Prior_Arrest_Episodes_GunCharges                         2\n",
       "Prior_Conviction_Episodes_Felony                         4\n",
       "Prior_Conviction_Episodes_Misd                           5\n",
       "Prior_Conviction_Episodes_Viol                           2\n",
       "Prior_Conviction_Episodes_Prop                           4\n",
       "Prior_Conviction_Episodes_Drug                           3\n",
       "Prior_Conviction_Episodes_PPViolationCharges             2\n",
       "Prior_Conviction_Episodes_DomesticViolenceCharges        2\n",
       "Prior_Conviction_Episodes_GunCharges                     2\n",
       "Prior_Revocations_Parole                                 2\n",
       "Prior_Revocations_Probation                              2\n",
       "Condition_MH_SA                                          2\n",
       "Condition_Cog_Ed                                         2\n",
       "Condition_Other                                          2\n",
       "Violations_ElectronicMonitoring                          2\n",
       "Violations_Instruction                                   2\n",
       "Violations_FailToReport                                  2\n",
       "Violations_MoveWithoutPermission                         2\n",
       "Delinquency_Reports                                      5\n",
       "Program_Attendances                                     11\n",
       "Program_UnexcusedAbsences                                4\n",
       "Residence_Changes                                        4\n",
       "Avg_Days_per_DrugTest                                 7654\n",
       "DrugTests_THC_Positive                                 311\n",
       "DrugTests_Cocaine_Positive                             203\n",
       "DrugTests_Meth_Positive                                201\n",
       "DrugTests_Other_Positive                               197\n",
       "Percent_Days_Employed                                 7915\n",
       "Jobs_Per_Year                                         3044\n",
       "Employment_Exempt                                        2\n",
       "Recidivism_Within_3years                                 2\n",
       "Recidivism_Arrest_Year1                                  2\n",
       "Recidivism_Arrest_Year2                                  2\n",
       "Recidivism_Arrest_Year3                                  2\n",
       "dtype: int64"
      ]
     },
     "metadata": {},
     "output_type": "display_data"
    },
    {
     "data": {
      "text/plain": [
       "(18028, 53)"
      ]
     },
     "metadata": {},
     "output_type": "display_data"
    }
   ],
   "source": [
    "# Your answer here (code portion)\n",
    "display(train_df.nunique())\n",
    "display(train_df.shape)"
   ]
  },
  {
   "cell_type": "markdown",
   "id": "3b993987-8906-41d8-bcad-8edde402225f",
   "metadata": {},
   "source": [
    "* <span style=\"color:blue\">Q8.1: `ID` is the only column in the NIJ dataset that is a direct identifier, as the number of unique values in the training dataset is equal to the number of individuals in the dataset, which is 18028.</span> \n",
    "\n",
    "* <span style=\"color:blue\">Q8.2: `Gender`, `Race`, `Age_at_Release`,  `Residence_PUMA`, `Education_Level`, and `Dependents` are effective as indirect identifiers, as they are unlikely to change drastically over extended periods of time and can be used to narrow down the individuals of interest; we can use a combination of these features to identify individuals of interest. The characteristics relating to supervision activities, from `Violations_ElectronicMonitoring` to `Employment_Exempt`, would make for poor candidates for indirect identifiers, as they are directly measured during parole and thus are unlikely to be matched with other anonymous data.</span> "
   ]
  },
  {
   "cell_type": "markdown",
   "id": "7aba0dde-7757-4d0e-b73b-b22f2f535cbe",
   "metadata": {},
   "source": [
    "## De-identification of structured data\n",
    "\n",
    "To safeguard the privacy of the individuals in our dataset, we need to make sure that they are not identifiable, either directly or indirectly. There are three main strategies to achieve this: suppression, pseudonymization, and generalization.\n",
    "\n",
    "### Suppression\n",
    "Suppression is an effective way to get rid of a direct identifier by simply removing the entire column. \n",
    "\n",
    "**Question 9:** using the appropriate dataframe methods, suppress all direct identifier in the NIJ training set. Save the result in a new dataframe called `suppressed_df`"
   ]
  },
  {
   "cell_type": "code",
   "execution_count": 8,
   "id": "59f4b2a3-bbf2-4d16-b78d-0119d860b204",
   "metadata": {
    "tags": []
   },
   "outputs": [
    {
     "data": {
      "text/html": [
       "<div>\n",
       "<style scoped>\n",
       "    .dataframe tbody tr th:only-of-type {\n",
       "        vertical-align: middle;\n",
       "    }\n",
       "\n",
       "    .dataframe tbody tr th {\n",
       "        vertical-align: top;\n",
       "    }\n",
       "\n",
       "    .dataframe thead th {\n",
       "        text-align: right;\n",
       "    }\n",
       "</style>\n",
       "<table border=\"1\" class=\"dataframe\">\n",
       "  <thead>\n",
       "    <tr style=\"text-align: right;\">\n",
       "      <th></th>\n",
       "      <th>Gender</th>\n",
       "      <th>Race</th>\n",
       "      <th>Age_at_Release</th>\n",
       "      <th>Residence_PUMA</th>\n",
       "      <th>Gang_Affiliated</th>\n",
       "      <th>Supervision_Risk_Score_First</th>\n",
       "      <th>Supervision_Level_First</th>\n",
       "      <th>Education_Level</th>\n",
       "      <th>Dependents</th>\n",
       "      <th>Prison_Offense</th>\n",
       "      <th>...</th>\n",
       "      <th>DrugTests_Cocaine_Positive</th>\n",
       "      <th>DrugTests_Meth_Positive</th>\n",
       "      <th>DrugTests_Other_Positive</th>\n",
       "      <th>Percent_Days_Employed</th>\n",
       "      <th>Jobs_Per_Year</th>\n",
       "      <th>Employment_Exempt</th>\n",
       "      <th>Recidivism_Within_3years</th>\n",
       "      <th>Recidivism_Arrest_Year1</th>\n",
       "      <th>Recidivism_Arrest_Year2</th>\n",
       "      <th>Recidivism_Arrest_Year3</th>\n",
       "    </tr>\n",
       "  </thead>\n",
       "  <tbody>\n",
       "    <tr>\n",
       "      <th>0</th>\n",
       "      <td>M</td>\n",
       "      <td>BLACK</td>\n",
       "      <td>43-47</td>\n",
       "      <td>16</td>\n",
       "      <td>False</td>\n",
       "      <td>3.0</td>\n",
       "      <td>Standard</td>\n",
       "      <td>At least some college</td>\n",
       "      <td>3 or more</td>\n",
       "      <td>Drug</td>\n",
       "      <td>...</td>\n",
       "      <td>0.0</td>\n",
       "      <td>0.000000</td>\n",
       "      <td>0.0</td>\n",
       "      <td>0.488562</td>\n",
       "      <td>0.447610</td>\n",
       "      <td>False</td>\n",
       "      <td>False</td>\n",
       "      <td>False</td>\n",
       "      <td>False</td>\n",
       "      <td>False</td>\n",
       "    </tr>\n",
       "    <tr>\n",
       "      <th>1</th>\n",
       "      <td>M</td>\n",
       "      <td>BLACK</td>\n",
       "      <td>33-37</td>\n",
       "      <td>16</td>\n",
       "      <td>False</td>\n",
       "      <td>6.0</td>\n",
       "      <td>Specialized</td>\n",
       "      <td>Less than HS diploma</td>\n",
       "      <td>1</td>\n",
       "      <td>Violent/Non-Sex</td>\n",
       "      <td>...</td>\n",
       "      <td>0.0</td>\n",
       "      <td>0.000000</td>\n",
       "      <td>0.0</td>\n",
       "      <td>0.425234</td>\n",
       "      <td>2.000000</td>\n",
       "      <td>False</td>\n",
       "      <td>True</td>\n",
       "      <td>False</td>\n",
       "      <td>False</td>\n",
       "      <td>True</td>\n",
       "    </tr>\n",
       "    <tr>\n",
       "      <th>2</th>\n",
       "      <td>M</td>\n",
       "      <td>BLACK</td>\n",
       "      <td>48 or older</td>\n",
       "      <td>24</td>\n",
       "      <td>False</td>\n",
       "      <td>7.0</td>\n",
       "      <td>High</td>\n",
       "      <td>At least some college</td>\n",
       "      <td>3 or more</td>\n",
       "      <td>Drug</td>\n",
       "      <td>...</td>\n",
       "      <td>0.0</td>\n",
       "      <td>0.166667</td>\n",
       "      <td>0.0</td>\n",
       "      <td>0.000000</td>\n",
       "      <td>0.000000</td>\n",
       "      <td>False</td>\n",
       "      <td>True</td>\n",
       "      <td>False</td>\n",
       "      <td>True</td>\n",
       "      <td>False</td>\n",
       "    </tr>\n",
       "    <tr>\n",
       "      <th>3</th>\n",
       "      <td>M</td>\n",
       "      <td>WHITE</td>\n",
       "      <td>38-42</td>\n",
       "      <td>16</td>\n",
       "      <td>False</td>\n",
       "      <td>7.0</td>\n",
       "      <td>High</td>\n",
       "      <td>Less than HS diploma</td>\n",
       "      <td>1</td>\n",
       "      <td>Property</td>\n",
       "      <td>...</td>\n",
       "      <td>0.0</td>\n",
       "      <td>0.000000</td>\n",
       "      <td>0.0</td>\n",
       "      <td>1.000000</td>\n",
       "      <td>0.718996</td>\n",
       "      <td>False</td>\n",
       "      <td>False</td>\n",
       "      <td>False</td>\n",
       "      <td>False</td>\n",
       "      <td>False</td>\n",
       "    </tr>\n",
       "    <tr>\n",
       "      <th>4</th>\n",
       "      <td>M</td>\n",
       "      <td>WHITE</td>\n",
       "      <td>33-37</td>\n",
       "      <td>16</td>\n",
       "      <td>False</td>\n",
       "      <td>4.0</td>\n",
       "      <td>Specialized</td>\n",
       "      <td>Less than HS diploma</td>\n",
       "      <td>3 or more</td>\n",
       "      <td>Violent/Non-Sex</td>\n",
       "      <td>...</td>\n",
       "      <td>0.0</td>\n",
       "      <td>0.058824</td>\n",
       "      <td>0.0</td>\n",
       "      <td>0.203562</td>\n",
       "      <td>0.929389</td>\n",
       "      <td>False</td>\n",
       "      <td>True</td>\n",
       "      <td>True</td>\n",
       "      <td>False</td>\n",
       "      <td>False</td>\n",
       "    </tr>\n",
       "  </tbody>\n",
       "</table>\n",
       "<p>5 rows × 52 columns</p>\n",
       "</div>"
      ],
      "text/plain": [
       "  Gender   Race Age_at_Release  Residence_PUMA Gang_Affiliated  \\\n",
       "0      M  BLACK          43-47              16           False   \n",
       "1      M  BLACK          33-37              16           False   \n",
       "2      M  BLACK    48 or older              24           False   \n",
       "3      M  WHITE          38-42              16           False   \n",
       "4      M  WHITE          33-37              16           False   \n",
       "\n",
       "   Supervision_Risk_Score_First Supervision_Level_First  \\\n",
       "0                           3.0                Standard   \n",
       "1                           6.0             Specialized   \n",
       "2                           7.0                    High   \n",
       "3                           7.0                    High   \n",
       "4                           4.0             Specialized   \n",
       "\n",
       "         Education_Level Dependents   Prison_Offense  ...  \\\n",
       "0  At least some college  3 or more             Drug  ...   \n",
       "1   Less than HS diploma          1  Violent/Non-Sex  ...   \n",
       "2  At least some college  3 or more             Drug  ...   \n",
       "3   Less than HS diploma          1         Property  ...   \n",
       "4   Less than HS diploma  3 or more  Violent/Non-Sex  ...   \n",
       "\n",
       "  DrugTests_Cocaine_Positive DrugTests_Meth_Positive DrugTests_Other_Positive  \\\n",
       "0                        0.0                0.000000                      0.0   \n",
       "1                        0.0                0.000000                      0.0   \n",
       "2                        0.0                0.166667                      0.0   \n",
       "3                        0.0                0.000000                      0.0   \n",
       "4                        0.0                0.058824                      0.0   \n",
       "\n",
       "  Percent_Days_Employed Jobs_Per_Year Employment_Exempt  \\\n",
       "0              0.488562      0.447610             False   \n",
       "1              0.425234      2.000000             False   \n",
       "2              0.000000      0.000000             False   \n",
       "3              1.000000      0.718996             False   \n",
       "4              0.203562      0.929389             False   \n",
       "\n",
       "  Recidivism_Within_3years  Recidivism_Arrest_Year1  Recidivism_Arrest_Year2  \\\n",
       "0                    False                    False                    False   \n",
       "1                     True                    False                    False   \n",
       "2                     True                    False                     True   \n",
       "3                    False                    False                    False   \n",
       "4                     True                     True                    False   \n",
       "\n",
       "  Recidivism_Arrest_Year3  \n",
       "0                   False  \n",
       "1                    True  \n",
       "2                   False  \n",
       "3                   False  \n",
       "4                   False  \n",
       "\n",
       "[5 rows x 52 columns]"
      ]
     },
     "execution_count": 8,
     "metadata": {},
     "output_type": "execute_result"
    }
   ],
   "source": [
    "# Your answer here\n",
    "direct_id = [\"ID\"]\n",
    "suppressed_df = train_df.drop(columns=direct_id)\n",
    "suppressed_df.head()"
   ]
  },
  {
   "cell_type": "markdown",
   "id": "11ea7b41-8a4d-4528-8309-539a902f1b1c",
   "metadata": {},
   "source": [
    "### Pseudonymization\n",
    "\n",
    "A big issue with suppression of direct identifier is that it is not reversible. If at some point we need to identify an individual in our dataset, we would be out of luck. If you have reasons to believe that re-identification may be required, pseudonymization would be a better option to handle direct identifiers. Pseudonymization replaces one or more direct identifiers with a unique but less meaningful value. Usually when we pseudonymize an identifier, there is a possibility of re-identification if required (but it would not be available to the general public).\n",
    "\n",
    "**Question 10:** pseudomyze the ID column of the NIJ training set and save the result in a new dataframe called `pseudo_df`. In a different code cell, show that it is possible to re-identify the samples by converting them back to the original ID number.\n",
    "\n",
    "There are different ways to achieve this you may want to explore:\n",
    "- Write your own pseudonymization function. You should write at least 2 functions: one to pseudomyze, and another to re-identify. The function does not have to be exceedingly complex but it should not be obvious either (e.g. only basic arithmetic involved).\n",
    "- Use an extisting library, such as [`cryptography`](https://cryptography.io/en/latest/)."
   ]
  },
  {
   "cell_type": "markdown",
   "id": "789e481f-956b-485a-8766-eedc168aacc1",
   "metadata": {},
   "source": [
    "<span style=\"color:blue\">Q10 with `cryptography`</span> "
   ]
  },
  {
   "cell_type": "code",
   "execution_count": 9,
   "id": "e6be3295-6427-470a-a47a-d3176a636b57",
   "metadata": {
    "tags": []
   },
   "outputs": [],
   "source": [
    "# Your answer here (you may add more cells as needed)\n",
    "from cryptography.fernet import Fernet\n",
    "\n",
    "# define the pseudomyze function:\n",
    "def psuedo_encry(col): \n",
    "    key = Fernet.generate_key()\n",
    "    f = Fernet(key)\n",
    "    result1 = col.apply(lambda x: x.to_bytes(2, byteorder='big'))\n",
    "    result2 = result1.apply(lambda x: f.encrypt(x)) \n",
    "    print(\"Data encrypted\")\n",
    "    return result2, f \n",
    "\n",
    "# define the re-identify function:\n",
    "def psuedo_decry(col, f): \n",
    "    result1 = col.apply(lambda x: f.decrypt(x))\n",
    "    result2 = result1.apply(lambda x: int.from_bytes(x, byteorder='big'))\n",
    "    print(\"Data decrypted\")\n",
    "    return result2"
   ]
  },
  {
   "cell_type": "code",
   "execution_count": 10,
   "id": "4b7af4dc-2172-4715-a311-5d6fd0a8472a",
   "metadata": {},
   "outputs": [
    {
     "name": "stdout",
     "output_type": "stream",
     "text": [
      "Data encrypted\n"
     ]
    },
    {
     "data": {
      "text/html": [
       "<div>\n",
       "<style scoped>\n",
       "    .dataframe tbody tr th:only-of-type {\n",
       "        vertical-align: middle;\n",
       "    }\n",
       "\n",
       "    .dataframe tbody tr th {\n",
       "        vertical-align: top;\n",
       "    }\n",
       "\n",
       "    .dataframe thead th {\n",
       "        text-align: right;\n",
       "    }\n",
       "</style>\n",
       "<table border=\"1\" class=\"dataframe\">\n",
       "  <thead>\n",
       "    <tr style=\"text-align: right;\">\n",
       "      <th></th>\n",
       "      <th>ID</th>\n",
       "      <th>Gender</th>\n",
       "      <th>Race</th>\n",
       "      <th>Age_at_Release</th>\n",
       "      <th>Residence_PUMA</th>\n",
       "      <th>Gang_Affiliated</th>\n",
       "      <th>Supervision_Risk_Score_First</th>\n",
       "      <th>Supervision_Level_First</th>\n",
       "      <th>Education_Level</th>\n",
       "      <th>Dependents</th>\n",
       "      <th>...</th>\n",
       "      <th>DrugTests_Cocaine_Positive</th>\n",
       "      <th>DrugTests_Meth_Positive</th>\n",
       "      <th>DrugTests_Other_Positive</th>\n",
       "      <th>Percent_Days_Employed</th>\n",
       "      <th>Jobs_Per_Year</th>\n",
       "      <th>Employment_Exempt</th>\n",
       "      <th>Recidivism_Within_3years</th>\n",
       "      <th>Recidivism_Arrest_Year1</th>\n",
       "      <th>Recidivism_Arrest_Year2</th>\n",
       "      <th>Recidivism_Arrest_Year3</th>\n",
       "    </tr>\n",
       "  </thead>\n",
       "  <tbody>\n",
       "    <tr>\n",
       "      <th>0</th>\n",
       "      <td>b'gAAAAABm-1QBoywSIPV3buuXLO8WRySWtz0orATwCti8...</td>\n",
       "      <td>M</td>\n",
       "      <td>BLACK</td>\n",
       "      <td>43-47</td>\n",
       "      <td>16</td>\n",
       "      <td>False</td>\n",
       "      <td>3.0</td>\n",
       "      <td>Standard</td>\n",
       "      <td>At least some college</td>\n",
       "      <td>3 or more</td>\n",
       "      <td>...</td>\n",
       "      <td>0.0</td>\n",
       "      <td>0.000000</td>\n",
       "      <td>0.0</td>\n",
       "      <td>0.488562</td>\n",
       "      <td>0.447610</td>\n",
       "      <td>False</td>\n",
       "      <td>False</td>\n",
       "      <td>False</td>\n",
       "      <td>False</td>\n",
       "      <td>False</td>\n",
       "    </tr>\n",
       "    <tr>\n",
       "      <th>1</th>\n",
       "      <td>b'gAAAAABm-1QBYrk2g8GnFg5JtQEFi5ckh1UJ0OrGBHVu...</td>\n",
       "      <td>M</td>\n",
       "      <td>BLACK</td>\n",
       "      <td>33-37</td>\n",
       "      <td>16</td>\n",
       "      <td>False</td>\n",
       "      <td>6.0</td>\n",
       "      <td>Specialized</td>\n",
       "      <td>Less than HS diploma</td>\n",
       "      <td>1</td>\n",
       "      <td>...</td>\n",
       "      <td>0.0</td>\n",
       "      <td>0.000000</td>\n",
       "      <td>0.0</td>\n",
       "      <td>0.425234</td>\n",
       "      <td>2.000000</td>\n",
       "      <td>False</td>\n",
       "      <td>True</td>\n",
       "      <td>False</td>\n",
       "      <td>False</td>\n",
       "      <td>True</td>\n",
       "    </tr>\n",
       "    <tr>\n",
       "      <th>2</th>\n",
       "      <td>b'gAAAAABm-1QB8m9N3FT8xEGDTsGnI5dlfAnNVuE3N9f2...</td>\n",
       "      <td>M</td>\n",
       "      <td>BLACK</td>\n",
       "      <td>48 or older</td>\n",
       "      <td>24</td>\n",
       "      <td>False</td>\n",
       "      <td>7.0</td>\n",
       "      <td>High</td>\n",
       "      <td>At least some college</td>\n",
       "      <td>3 or more</td>\n",
       "      <td>...</td>\n",
       "      <td>0.0</td>\n",
       "      <td>0.166667</td>\n",
       "      <td>0.0</td>\n",
       "      <td>0.000000</td>\n",
       "      <td>0.000000</td>\n",
       "      <td>False</td>\n",
       "      <td>True</td>\n",
       "      <td>False</td>\n",
       "      <td>True</td>\n",
       "      <td>False</td>\n",
       "    </tr>\n",
       "    <tr>\n",
       "      <th>3</th>\n",
       "      <td>b'gAAAAABm-1QBwDZ5ECEshYKJLS5ICHo2uNqJ8upXmaRR...</td>\n",
       "      <td>M</td>\n",
       "      <td>WHITE</td>\n",
       "      <td>38-42</td>\n",
       "      <td>16</td>\n",
       "      <td>False</td>\n",
       "      <td>7.0</td>\n",
       "      <td>High</td>\n",
       "      <td>Less than HS diploma</td>\n",
       "      <td>1</td>\n",
       "      <td>...</td>\n",
       "      <td>0.0</td>\n",
       "      <td>0.000000</td>\n",
       "      <td>0.0</td>\n",
       "      <td>1.000000</td>\n",
       "      <td>0.718996</td>\n",
       "      <td>False</td>\n",
       "      <td>False</td>\n",
       "      <td>False</td>\n",
       "      <td>False</td>\n",
       "      <td>False</td>\n",
       "    </tr>\n",
       "    <tr>\n",
       "      <th>4</th>\n",
       "      <td>b'gAAAAABm-1QBrWDi4O7jx32g0La_xTLzCizsTtTgtIZ8...</td>\n",
       "      <td>M</td>\n",
       "      <td>WHITE</td>\n",
       "      <td>33-37</td>\n",
       "      <td>16</td>\n",
       "      <td>False</td>\n",
       "      <td>4.0</td>\n",
       "      <td>Specialized</td>\n",
       "      <td>Less than HS diploma</td>\n",
       "      <td>3 or more</td>\n",
       "      <td>...</td>\n",
       "      <td>0.0</td>\n",
       "      <td>0.058824</td>\n",
       "      <td>0.0</td>\n",
       "      <td>0.203562</td>\n",
       "      <td>0.929389</td>\n",
       "      <td>False</td>\n",
       "      <td>True</td>\n",
       "      <td>True</td>\n",
       "      <td>False</td>\n",
       "      <td>False</td>\n",
       "    </tr>\n",
       "  </tbody>\n",
       "</table>\n",
       "<p>5 rows × 53 columns</p>\n",
       "</div>"
      ],
      "text/plain": [
       "                                                  ID Gender   Race  \\\n",
       "0  b'gAAAAABm-1QBoywSIPV3buuXLO8WRySWtz0orATwCti8...      M  BLACK   \n",
       "1  b'gAAAAABm-1QBYrk2g8GnFg5JtQEFi5ckh1UJ0OrGBHVu...      M  BLACK   \n",
       "2  b'gAAAAABm-1QB8m9N3FT8xEGDTsGnI5dlfAnNVuE3N9f2...      M  BLACK   \n",
       "3  b'gAAAAABm-1QBwDZ5ECEshYKJLS5ICHo2uNqJ8upXmaRR...      M  WHITE   \n",
       "4  b'gAAAAABm-1QBrWDi4O7jx32g0La_xTLzCizsTtTgtIZ8...      M  WHITE   \n",
       "\n",
       "  Age_at_Release  Residence_PUMA Gang_Affiliated  \\\n",
       "0          43-47              16           False   \n",
       "1          33-37              16           False   \n",
       "2    48 or older              24           False   \n",
       "3          38-42              16           False   \n",
       "4          33-37              16           False   \n",
       "\n",
       "   Supervision_Risk_Score_First Supervision_Level_First  \\\n",
       "0                           3.0                Standard   \n",
       "1                           6.0             Specialized   \n",
       "2                           7.0                    High   \n",
       "3                           7.0                    High   \n",
       "4                           4.0             Specialized   \n",
       "\n",
       "         Education_Level Dependents  ... DrugTests_Cocaine_Positive  \\\n",
       "0  At least some college  3 or more  ...                        0.0   \n",
       "1   Less than HS diploma          1  ...                        0.0   \n",
       "2  At least some college  3 or more  ...                        0.0   \n",
       "3   Less than HS diploma          1  ...                        0.0   \n",
       "4   Less than HS diploma  3 or more  ...                        0.0   \n",
       "\n",
       "  DrugTests_Meth_Positive DrugTests_Other_Positive Percent_Days_Employed  \\\n",
       "0                0.000000                      0.0              0.488562   \n",
       "1                0.000000                      0.0              0.425234   \n",
       "2                0.166667                      0.0              0.000000   \n",
       "3                0.000000                      0.0              1.000000   \n",
       "4                0.058824                      0.0              0.203562   \n",
       "\n",
       "  Jobs_Per_Year Employment_Exempt Recidivism_Within_3years  \\\n",
       "0      0.447610             False                    False   \n",
       "1      2.000000             False                     True   \n",
       "2      0.000000             False                     True   \n",
       "3      0.718996             False                    False   \n",
       "4      0.929389             False                     True   \n",
       "\n",
       "  Recidivism_Arrest_Year1  Recidivism_Arrest_Year2  Recidivism_Arrest_Year3  \n",
       "0                   False                    False                    False  \n",
       "1                   False                    False                     True  \n",
       "2                   False                     True                    False  \n",
       "3                   False                    False                    False  \n",
       "4                    True                    False                    False  \n",
       "\n",
       "[5 rows x 53 columns]"
      ]
     },
     "execution_count": 10,
     "metadata": {},
     "output_type": "execute_result"
    }
   ],
   "source": [
    "# Pseudomyzation\n",
    "pseudo_df = train_df.copy()\n",
    "pseudo_df[\"ID\"], f = psuedo_encry(train_df[\"ID\"])\n",
    "pseudo_df.head()"
   ]
  },
  {
   "cell_type": "code",
   "execution_count": 11,
   "id": "37d7c157-0cfc-468b-a9d6-75182ff3921d",
   "metadata": {},
   "outputs": [
    {
     "name": "stdout",
     "output_type": "stream",
     "text": [
      "Data decrypted\n"
     ]
    },
    {
     "data": {
      "text/html": [
       "<div>\n",
       "<style scoped>\n",
       "    .dataframe tbody tr th:only-of-type {\n",
       "        vertical-align: middle;\n",
       "    }\n",
       "\n",
       "    .dataframe tbody tr th {\n",
       "        vertical-align: top;\n",
       "    }\n",
       "\n",
       "    .dataframe thead th {\n",
       "        text-align: right;\n",
       "    }\n",
       "</style>\n",
       "<table border=\"1\" class=\"dataframe\">\n",
       "  <thead>\n",
       "    <tr style=\"text-align: right;\">\n",
       "      <th></th>\n",
       "      <th>ID</th>\n",
       "      <th>Gender</th>\n",
       "      <th>Race</th>\n",
       "      <th>Age_at_Release</th>\n",
       "      <th>Residence_PUMA</th>\n",
       "      <th>Gang_Affiliated</th>\n",
       "      <th>Supervision_Risk_Score_First</th>\n",
       "      <th>Supervision_Level_First</th>\n",
       "      <th>Education_Level</th>\n",
       "      <th>Dependents</th>\n",
       "      <th>...</th>\n",
       "      <th>DrugTests_Cocaine_Positive</th>\n",
       "      <th>DrugTests_Meth_Positive</th>\n",
       "      <th>DrugTests_Other_Positive</th>\n",
       "      <th>Percent_Days_Employed</th>\n",
       "      <th>Jobs_Per_Year</th>\n",
       "      <th>Employment_Exempt</th>\n",
       "      <th>Recidivism_Within_3years</th>\n",
       "      <th>Recidivism_Arrest_Year1</th>\n",
       "      <th>Recidivism_Arrest_Year2</th>\n",
       "      <th>Recidivism_Arrest_Year3</th>\n",
       "    </tr>\n",
       "  </thead>\n",
       "  <tbody>\n",
       "    <tr>\n",
       "      <th>0</th>\n",
       "      <td>1</td>\n",
       "      <td>M</td>\n",
       "      <td>BLACK</td>\n",
       "      <td>43-47</td>\n",
       "      <td>16</td>\n",
       "      <td>False</td>\n",
       "      <td>3.0</td>\n",
       "      <td>Standard</td>\n",
       "      <td>At least some college</td>\n",
       "      <td>3 or more</td>\n",
       "      <td>...</td>\n",
       "      <td>0.0</td>\n",
       "      <td>0.000000</td>\n",
       "      <td>0.0</td>\n",
       "      <td>0.488562</td>\n",
       "      <td>0.447610</td>\n",
       "      <td>False</td>\n",
       "      <td>False</td>\n",
       "      <td>False</td>\n",
       "      <td>False</td>\n",
       "      <td>False</td>\n",
       "    </tr>\n",
       "    <tr>\n",
       "      <th>1</th>\n",
       "      <td>2</td>\n",
       "      <td>M</td>\n",
       "      <td>BLACK</td>\n",
       "      <td>33-37</td>\n",
       "      <td>16</td>\n",
       "      <td>False</td>\n",
       "      <td>6.0</td>\n",
       "      <td>Specialized</td>\n",
       "      <td>Less than HS diploma</td>\n",
       "      <td>1</td>\n",
       "      <td>...</td>\n",
       "      <td>0.0</td>\n",
       "      <td>0.000000</td>\n",
       "      <td>0.0</td>\n",
       "      <td>0.425234</td>\n",
       "      <td>2.000000</td>\n",
       "      <td>False</td>\n",
       "      <td>True</td>\n",
       "      <td>False</td>\n",
       "      <td>False</td>\n",
       "      <td>True</td>\n",
       "    </tr>\n",
       "    <tr>\n",
       "      <th>2</th>\n",
       "      <td>3</td>\n",
       "      <td>M</td>\n",
       "      <td>BLACK</td>\n",
       "      <td>48 or older</td>\n",
       "      <td>24</td>\n",
       "      <td>False</td>\n",
       "      <td>7.0</td>\n",
       "      <td>High</td>\n",
       "      <td>At least some college</td>\n",
       "      <td>3 or more</td>\n",
       "      <td>...</td>\n",
       "      <td>0.0</td>\n",
       "      <td>0.166667</td>\n",
       "      <td>0.0</td>\n",
       "      <td>0.000000</td>\n",
       "      <td>0.000000</td>\n",
       "      <td>False</td>\n",
       "      <td>True</td>\n",
       "      <td>False</td>\n",
       "      <td>True</td>\n",
       "      <td>False</td>\n",
       "    </tr>\n",
       "    <tr>\n",
       "      <th>3</th>\n",
       "      <td>4</td>\n",
       "      <td>M</td>\n",
       "      <td>WHITE</td>\n",
       "      <td>38-42</td>\n",
       "      <td>16</td>\n",
       "      <td>False</td>\n",
       "      <td>7.0</td>\n",
       "      <td>High</td>\n",
       "      <td>Less than HS diploma</td>\n",
       "      <td>1</td>\n",
       "      <td>...</td>\n",
       "      <td>0.0</td>\n",
       "      <td>0.000000</td>\n",
       "      <td>0.0</td>\n",
       "      <td>1.000000</td>\n",
       "      <td>0.718996</td>\n",
       "      <td>False</td>\n",
       "      <td>False</td>\n",
       "      <td>False</td>\n",
       "      <td>False</td>\n",
       "      <td>False</td>\n",
       "    </tr>\n",
       "    <tr>\n",
       "      <th>4</th>\n",
       "      <td>5</td>\n",
       "      <td>M</td>\n",
       "      <td>WHITE</td>\n",
       "      <td>33-37</td>\n",
       "      <td>16</td>\n",
       "      <td>False</td>\n",
       "      <td>4.0</td>\n",
       "      <td>Specialized</td>\n",
       "      <td>Less than HS diploma</td>\n",
       "      <td>3 or more</td>\n",
       "      <td>...</td>\n",
       "      <td>0.0</td>\n",
       "      <td>0.058824</td>\n",
       "      <td>0.0</td>\n",
       "      <td>0.203562</td>\n",
       "      <td>0.929389</td>\n",
       "      <td>False</td>\n",
       "      <td>True</td>\n",
       "      <td>True</td>\n",
       "      <td>False</td>\n",
       "      <td>False</td>\n",
       "    </tr>\n",
       "  </tbody>\n",
       "</table>\n",
       "<p>5 rows × 53 columns</p>\n",
       "</div>"
      ],
      "text/plain": [
       "   ID Gender   Race Age_at_Release  Residence_PUMA Gang_Affiliated  \\\n",
       "0   1      M  BLACK          43-47              16           False   \n",
       "1   2      M  BLACK          33-37              16           False   \n",
       "2   3      M  BLACK    48 or older              24           False   \n",
       "3   4      M  WHITE          38-42              16           False   \n",
       "4   5      M  WHITE          33-37              16           False   \n",
       "\n",
       "   Supervision_Risk_Score_First Supervision_Level_First  \\\n",
       "0                           3.0                Standard   \n",
       "1                           6.0             Specialized   \n",
       "2                           7.0                    High   \n",
       "3                           7.0                    High   \n",
       "4                           4.0             Specialized   \n",
       "\n",
       "         Education_Level Dependents  ... DrugTests_Cocaine_Positive  \\\n",
       "0  At least some college  3 or more  ...                        0.0   \n",
       "1   Less than HS diploma          1  ...                        0.0   \n",
       "2  At least some college  3 or more  ...                        0.0   \n",
       "3   Less than HS diploma          1  ...                        0.0   \n",
       "4   Less than HS diploma  3 or more  ...                        0.0   \n",
       "\n",
       "  DrugTests_Meth_Positive DrugTests_Other_Positive Percent_Days_Employed  \\\n",
       "0                0.000000                      0.0              0.488562   \n",
       "1                0.000000                      0.0              0.425234   \n",
       "2                0.166667                      0.0              0.000000   \n",
       "3                0.000000                      0.0              1.000000   \n",
       "4                0.058824                      0.0              0.203562   \n",
       "\n",
       "  Jobs_Per_Year Employment_Exempt Recidivism_Within_3years  \\\n",
       "0      0.447610             False                    False   \n",
       "1      2.000000             False                     True   \n",
       "2      0.000000             False                     True   \n",
       "3      0.718996             False                    False   \n",
       "4      0.929389             False                     True   \n",
       "\n",
       "  Recidivism_Arrest_Year1  Recidivism_Arrest_Year2  Recidivism_Arrest_Year3  \n",
       "0                   False                    False                    False  \n",
       "1                   False                    False                     True  \n",
       "2                   False                     True                    False  \n",
       "3                   False                    False                    False  \n",
       "4                    True                    False                    False  \n",
       "\n",
       "[5 rows x 53 columns]"
      ]
     },
     "execution_count": 11,
     "metadata": {},
     "output_type": "execute_result"
    }
   ],
   "source": [
    "# Reidentification\n",
    "pseudo_df[\"ID\"] = psuedo_decry(pseudo_df[\"ID\"], f)\n",
    "pseudo_df.head()"
   ]
  },
  {
   "cell_type": "markdown",
   "id": "a545e058-08a0-440d-8f28-fa33e6b670c3",
   "metadata": {},
   "source": [
    "<span style=\"color:blue\">Encoding idea</span> "
   ]
  },
  {
   "cell_type": "code",
   "execution_count": 12,
   "id": "c1b74b1b-87d1-42a6-ae1d-8613bd60af39",
   "metadata": {},
   "outputs": [],
   "source": [
    "# # Your answer here (you may add more cells as needed)\n",
    "# # https://stackoverflow.com/questions/64605565/how-to-pseudonymize-and-pseudonymize-it-back\n",
    "# # https://stackoverflow.com/questions/23199733/convert-numbers-into-corresponding-letter-using-python\n",
    "# # https://www.geeksforgeeks.org/python-split-string-into-list-of-characters/\n",
    "# # Idea: Number divided by powers of 26, first character is power, second character is remainder\n",
    "\n",
    "# def encoding1(int): \n",
    "#     pow = 0\n",
    "#     multiple = 0\n",
    "#     rem = int%26\n",
    "#     while (int >= 26): \n",
    "#         int = int//26\n",
    "#         multiple += 1 \n",
    "#         if (multiple >= 26): \n",
    "#             pow += 1\n",
    "#             multiple = 1\n",
    "#         else: \n",
    "#             continue\n",
    "#     return chr(ord('@')+(pow+1)) + chr(ord('@')+(multiple+1)) + chr(ord('@')+(rem+1))\n",
    "#     # return chr(ord('@')+(pow+1)) + chr(ord('@')+(rem+1))\n",
    "# print(encoding1(25))\n",
    "# print(encoding1(26))\n",
    "# print(encoding1(51))\n",
    "# print(encoding1(53))\n",
    "# print(encoding1(1000))\n",
    "\n",
    "# def decoding1(str): \n",
    "#     list = [x for x in str]\n",
    "#     pow = ord(list[0])-ord(\"A\")\n",
    "#     multiple = ord(list[1])-ord(\"A\")\n",
    "#     rem = ord(list[2])-ord(\"A\")\n",
    "#     return (26**pow) * multiple + rem\n",
    "# print(decoding1(\"AAZ\"))\n",
    "# print(decoding1(\"ABA\"))\n",
    "# print(decoding1(\"ACM\"))\n",
    "\n",
    "# # def encoding1(int): \n",
    "# #     val = int\n",
    "# #     pow = 0\n",
    "# #     rem = 0\n",
    "# #     while (val > 26): \n",
    "# #         val = val//26 \n",
    "# #         pow += 1 \n",
    "# #     rem = val%26\n",
    "# #     return str(pow) + str(rem)\n",
    "\n",
    "# # pseudo_df = train_df\n",
    "# # pseudo_df.head()"
   ]
  },
  {
   "cell_type": "markdown",
   "id": "7f398e2b-8c36-4d05-b6fb-00de7ca702bb",
   "metadata": {},
   "source": [
    "### Generalization\n",
    "\n",
    "Generalization is a commonly used technique in anonymization, which involves reducing the precision of a column. For example, the date of birth or the date of a doctor's visit can be generalized to a month and year, to a year, or to a five-year interval. Generalization can help achieving $k$-anonymity. \n",
    "\n",
    "To check for $k$-anonymity, we will use the [`pycanon` library](https://github.com/IFCA/pycanon). You can install this library in your virtual environment by running the command:\n",
    "\n",
    "```\n",
    "pip install pycanon\n",
    "```\n",
    "\n",
    "**Question 11:** `pycanon` includes several functions (feel free to explore them in the related documentation), but we will only be using `k-anonimity`. Look at the documentation, then use `k-anonimity` to determine the $k$-anonymity of the following groups of variables:\n",
    "\n",
    "- $k$-anonymity of Gender and Race features: <span style=\"color:blue\">743</span> \n",
    "- $k$-anonymity of Gender, Race, and Age_at_Release features: <span style=\"color:blue\">44</span>\n",
    "- $k$-anonymity of Gender, Race, Age_at_Release and Residence_PUMA features: <span style=\"color:blue\">1</span>"
   ]
  },
  {
   "cell_type": "code",
   "execution_count": 13,
   "id": "d1ed9cf8-97ac-4108-a595-8b4b8dc513d1",
   "metadata": {
    "tags": []
   },
   "outputs": [
    {
     "name": "stdout",
     "output_type": "stream",
     "text": [
      "k-anonymity of Gender and Race features: 743\n",
      "k-anonymity of Gender, Race, and Age_at_Release features: 44\n",
      "k-anonymity of Gender, Race, Age_at_Release and Residence_PUMA features: 1\n"
     ]
    }
   ],
   "source": [
    "from pycanon import anonymity\n",
    "\n",
    "# Your answer here\n",
    "k1 = anonymity.alpha_k_anonymity(train_df, quasi_ident = [\"Gender\", \"Race\"], sens_att = [\"Gender\", \"Race\"])[1]\n",
    "k2 = anonymity.alpha_k_anonymity(train_df, quasi_ident = [\"Gender\", \"Race\", \"Age_at_Release\"], sens_att = [\"Gender\", \"Race\", \"Age_at_Release\"])[1]\n",
    "k3 = anonymity.alpha_k_anonymity(train_df, quasi_ident = [\"Gender\", \"Race\", \"Age_at_Release\", \"Residence_PUMA\"], sens_att = [\"Gender\", \"Race\", \"Age_at_Release\"])[1]\n",
    "print(\"k-anonymity of Gender and Race features: \" + str(k1))\n",
    "print(\"k-anonymity of Gender, Race, and Age_at_Release features: \" + str(k2))\n",
    "print(\"k-anonymity of Gender, Race, Age_at_Release and Residence_PUMA features: \" + str(k3))"
   ]
  },
  {
   "cell_type": "markdown",
   "id": "1e20204f-98bb-4777-93cc-11b25051c8f0",
   "metadata": {},
   "source": [
    "The $k$-anonymity of the combination of Gender, Race, Age_at_Release and Residence_PUMA is clearly problematic! It would be very easy to identify someone if we knew these 4 pieces of information about them. \n",
    "\n",
    "**Question 12:** can you bin the Residence_PUMA feature to achieve 4-anonymity for this set of features? Add the new column to the existing dataframe, using the name `Binned_PUMA`.\n",
    "\n",
    "For this task, you may want to look into the `cut()` and `qcut()` functions of the pandas library.\n",
    "\n",
    "Remember that now, when checking for $k$-anonymity, you should be looking at the new column `Binned_PUMA`, not at `Residence_PUMA`."
   ]
  },
  {
   "cell_type": "code",
   "execution_count": 14,
   "id": "8e7ffef0-e213-453f-a684-286325d28899",
   "metadata": {
    "tags": []
   },
   "outputs": [
    {
     "name": "stdout",
     "output_type": "stream",
     "text": [
      "k-anonymity of Gender, Race, Age_at_Release and Binned_PUMA features: 4\n"
     ]
    },
    {
     "data": {
      "text/html": [
       "<div>\n",
       "<style scoped>\n",
       "    .dataframe tbody tr th:only-of-type {\n",
       "        vertical-align: middle;\n",
       "    }\n",
       "\n",
       "    .dataframe tbody tr th {\n",
       "        vertical-align: top;\n",
       "    }\n",
       "\n",
       "    .dataframe thead th {\n",
       "        text-align: right;\n",
       "    }\n",
       "</style>\n",
       "<table border=\"1\" class=\"dataframe\">\n",
       "  <thead>\n",
       "    <tr style=\"text-align: right;\">\n",
       "      <th></th>\n",
       "      <th>ID</th>\n",
       "      <th>Gender</th>\n",
       "      <th>Race</th>\n",
       "      <th>Age_at_Release</th>\n",
       "      <th>Residence_PUMA</th>\n",
       "      <th>Gang_Affiliated</th>\n",
       "      <th>Supervision_Risk_Score_First</th>\n",
       "      <th>Supervision_Level_First</th>\n",
       "      <th>Education_Level</th>\n",
       "      <th>Dependents</th>\n",
       "      <th>...</th>\n",
       "      <th>DrugTests_Meth_Positive</th>\n",
       "      <th>DrugTests_Other_Positive</th>\n",
       "      <th>Percent_Days_Employed</th>\n",
       "      <th>Jobs_Per_Year</th>\n",
       "      <th>Employment_Exempt</th>\n",
       "      <th>Recidivism_Within_3years</th>\n",
       "      <th>Recidivism_Arrest_Year1</th>\n",
       "      <th>Recidivism_Arrest_Year2</th>\n",
       "      <th>Recidivism_Arrest_Year3</th>\n",
       "      <th>Binned_PUMA</th>\n",
       "    </tr>\n",
       "  </thead>\n",
       "  <tbody>\n",
       "    <tr>\n",
       "      <th>0</th>\n",
       "      <td>1</td>\n",
       "      <td>M</td>\n",
       "      <td>BLACK</td>\n",
       "      <td>43-47</td>\n",
       "      <td>16</td>\n",
       "      <td>False</td>\n",
       "      <td>3.0</td>\n",
       "      <td>Standard</td>\n",
       "      <td>At least some college</td>\n",
       "      <td>3 or more</td>\n",
       "      <td>...</td>\n",
       "      <td>0.000000</td>\n",
       "      <td>0.0</td>\n",
       "      <td>0.488562</td>\n",
       "      <td>0.447610</td>\n",
       "      <td>False</td>\n",
       "      <td>False</td>\n",
       "      <td>False</td>\n",
       "      <td>False</td>\n",
       "      <td>False</td>\n",
       "      <td>(15.0, 20.0]</td>\n",
       "    </tr>\n",
       "    <tr>\n",
       "      <th>1</th>\n",
       "      <td>2</td>\n",
       "      <td>M</td>\n",
       "      <td>BLACK</td>\n",
       "      <td>33-37</td>\n",
       "      <td>16</td>\n",
       "      <td>False</td>\n",
       "      <td>6.0</td>\n",
       "      <td>Specialized</td>\n",
       "      <td>Less than HS diploma</td>\n",
       "      <td>1</td>\n",
       "      <td>...</td>\n",
       "      <td>0.000000</td>\n",
       "      <td>0.0</td>\n",
       "      <td>0.425234</td>\n",
       "      <td>2.000000</td>\n",
       "      <td>False</td>\n",
       "      <td>True</td>\n",
       "      <td>False</td>\n",
       "      <td>False</td>\n",
       "      <td>True</td>\n",
       "      <td>(15.0, 20.0]</td>\n",
       "    </tr>\n",
       "    <tr>\n",
       "      <th>2</th>\n",
       "      <td>3</td>\n",
       "      <td>M</td>\n",
       "      <td>BLACK</td>\n",
       "      <td>48 or older</td>\n",
       "      <td>24</td>\n",
       "      <td>False</td>\n",
       "      <td>7.0</td>\n",
       "      <td>High</td>\n",
       "      <td>At least some college</td>\n",
       "      <td>3 or more</td>\n",
       "      <td>...</td>\n",
       "      <td>0.166667</td>\n",
       "      <td>0.0</td>\n",
       "      <td>0.000000</td>\n",
       "      <td>0.000000</td>\n",
       "      <td>False</td>\n",
       "      <td>True</td>\n",
       "      <td>False</td>\n",
       "      <td>True</td>\n",
       "      <td>False</td>\n",
       "      <td>(20.0, 25.0]</td>\n",
       "    </tr>\n",
       "    <tr>\n",
       "      <th>3</th>\n",
       "      <td>4</td>\n",
       "      <td>M</td>\n",
       "      <td>WHITE</td>\n",
       "      <td>38-42</td>\n",
       "      <td>16</td>\n",
       "      <td>False</td>\n",
       "      <td>7.0</td>\n",
       "      <td>High</td>\n",
       "      <td>Less than HS diploma</td>\n",
       "      <td>1</td>\n",
       "      <td>...</td>\n",
       "      <td>0.000000</td>\n",
       "      <td>0.0</td>\n",
       "      <td>1.000000</td>\n",
       "      <td>0.718996</td>\n",
       "      <td>False</td>\n",
       "      <td>False</td>\n",
       "      <td>False</td>\n",
       "      <td>False</td>\n",
       "      <td>False</td>\n",
       "      <td>(15.0, 20.0]</td>\n",
       "    </tr>\n",
       "    <tr>\n",
       "      <th>4</th>\n",
       "      <td>5</td>\n",
       "      <td>M</td>\n",
       "      <td>WHITE</td>\n",
       "      <td>33-37</td>\n",
       "      <td>16</td>\n",
       "      <td>False</td>\n",
       "      <td>4.0</td>\n",
       "      <td>Specialized</td>\n",
       "      <td>Less than HS diploma</td>\n",
       "      <td>3 or more</td>\n",
       "      <td>...</td>\n",
       "      <td>0.058824</td>\n",
       "      <td>0.0</td>\n",
       "      <td>0.203562</td>\n",
       "      <td>0.929389</td>\n",
       "      <td>False</td>\n",
       "      <td>True</td>\n",
       "      <td>True</td>\n",
       "      <td>False</td>\n",
       "      <td>False</td>\n",
       "      <td>(15.0, 20.0]</td>\n",
       "    </tr>\n",
       "  </tbody>\n",
       "</table>\n",
       "<p>5 rows × 54 columns</p>\n",
       "</div>"
      ],
      "text/plain": [
       "   ID Gender   Race Age_at_Release  Residence_PUMA Gang_Affiliated  \\\n",
       "0   1      M  BLACK          43-47              16           False   \n",
       "1   2      M  BLACK          33-37              16           False   \n",
       "2   3      M  BLACK    48 or older              24           False   \n",
       "3   4      M  WHITE          38-42              16           False   \n",
       "4   5      M  WHITE          33-37              16           False   \n",
       "\n",
       "   Supervision_Risk_Score_First Supervision_Level_First  \\\n",
       "0                           3.0                Standard   \n",
       "1                           6.0             Specialized   \n",
       "2                           7.0                    High   \n",
       "3                           7.0                    High   \n",
       "4                           4.0             Specialized   \n",
       "\n",
       "         Education_Level Dependents  ... DrugTests_Meth_Positive  \\\n",
       "0  At least some college  3 or more  ...                0.000000   \n",
       "1   Less than HS diploma          1  ...                0.000000   \n",
       "2  At least some college  3 or more  ...                0.166667   \n",
       "3   Less than HS diploma          1  ...                0.000000   \n",
       "4   Less than HS diploma  3 or more  ...                0.058824   \n",
       "\n",
       "  DrugTests_Other_Positive Percent_Days_Employed Jobs_Per_Year  \\\n",
       "0                      0.0              0.488562      0.447610   \n",
       "1                      0.0              0.425234      2.000000   \n",
       "2                      0.0              0.000000      0.000000   \n",
       "3                      0.0              1.000000      0.718996   \n",
       "4                      0.0              0.203562      0.929389   \n",
       "\n",
       "  Employment_Exempt Recidivism_Within_3years Recidivism_Arrest_Year1  \\\n",
       "0             False                    False                   False   \n",
       "1             False                     True                   False   \n",
       "2             False                     True                   False   \n",
       "3             False                    False                   False   \n",
       "4             False                     True                    True   \n",
       "\n",
       "  Recidivism_Arrest_Year2  Recidivism_Arrest_Year3   Binned_PUMA  \n",
       "0                   False                    False  (15.0, 20.0]  \n",
       "1                   False                     True  (15.0, 20.0]  \n",
       "2                    True                    False  (20.0, 25.0]  \n",
       "3                   False                    False  (15.0, 20.0]  \n",
       "4                   False                    False  (15.0, 20.0]  \n",
       "\n",
       "[5 rows x 54 columns]"
      ]
     },
     "metadata": {},
     "output_type": "display_data"
    }
   ],
   "source": [
    "# Your answer here\n",
    "import warnings\n",
    "warnings.filterwarnings(\"ignore\", category=FutureWarning)\n",
    "\n",
    "for bin in range(20):\n",
    "    train_df[\"Binned_PUMA\"] = pd.qcut(train_df[\"Residence_PUMA\"], bin)\n",
    "    k = anonymity.alpha_k_anonymity(train_df, quasi_ident = [\"Gender\", \"Race\", \"Age_at_Release\", \"Binned_PUMA\"], sens_att = [\"Gender\", \"Race\", \"Age_at_Release\"])[1]\n",
    "    if k==4:\n",
    "        print(\"k-anonymity of Gender, Race, Age_at_Release and Binned_PUMA features: \" + str(k))\n",
    "        display(train_df.head())\n",
    "        break"
   ]
  },
  {
   "cell_type": "markdown",
   "id": "46b86b8f-9c2d-43c1-a431-3d29c51260ca",
   "metadata": {},
   "source": [
    "With 4-anonymity for these set of features, we can rest assured that there are at least 4 individuals sharing the same combination, making it more difficult to identify someone by knowing only these 4 pieces of information. However, let's not ignore the following issues:\n",
    "- We did not test $k$-anonymity for other combinations of features, so it is very likely that our dataset is still not anonymized.\n",
    "- 4-anonymity is not very strong; if I can narrow down my search to 4 people, I can still learn a lot about a person (at least approximatively).\n",
    "- We may lose $k$-anonymity by adding more information."
   ]
  },
  {
   "cell_type": "markdown",
   "id": "a3c43682-9285-4787-9c79-82976bd7d0a2",
   "metadata": {},
   "source": [
    "## Differential Privacy\n",
    "\n",
    "As discussed in class, differential privacy is a stronger, mathematically robust definition of privacy for an algorithm. You can learn more about it by watching this video from Minute Physics: [Protecting Privacy with MATH](https://www.youtube.com/watch?v=pT19VwBAqKA)\n",
    "\n",
    "After watching this video, try answering the following questions:\n",
    "1. If you have two differentially private datasets, one with and one without your data, what does differential privacy guarantee regarding your privacy?\n",
    "2. An algorithm has differential privacy $\\epsilon$ = 2, another one $\\epsilon$ = 4. Which one provides a higher level of privacy? Explain your answer.\n",
    "3. The video highlights at least two of the main challenges with differential privacy. Summarize them."
   ]
  },
  {
   "cell_type": "markdown",
   "id": "7ed1bae8-748c-4216-a619-a93bd4f8915f",
   "metadata": {},
   "source": [
    "* <span style=\"color:blue\">Q12.1: Differential privacy guarantees that the change in output of the algorithm between the two datasets will be minimal, and thus it would be difficult to deduce which dataset your data is present in. In other words, whether your data is in a dataset or not, the change in the output will be limited, so if the data is published, other people cannot easily detect your presence in the data.</span>\n",
    "* <span style=\"color:blue\">Q12.2: $\\epsilon$ is a measure of the privacy loss as a result from differential changes in data, such as the addition of removal of new entries. As such, the algorithm with $\\epsilon$ = 2 indicates that the change in the output will be small with and without the presence of your data, and thus has a higher level of privacy.</span>\n",
    "* <span style=\"color:blue\">Q12.3: There is a tradeoff between differential privacy and informational accuracy, so people will need to figure out the minimum amount of noise required to maximise both privacy and accuracy. The publication of multiple jittered statistics also runs the risk of being combined to reconstruct the data that was meant to be hidden, so their publication need to be future-proofed to prevent such.</span>"
   ]
  },
  {
   "cell_type": "markdown",
   "id": "0112254e-7e1a-4b7e-9f18-330ccbd5e65c",
   "metadata": {},
   "source": [
    "## Randomized response\n",
    "\n",
    "In class, we described randomized polling as a way to conduct interviews including sensitive questions, while protecting individuals' privacy. \n",
    "\n",
    "**Question 13:** imagine that UBC has been surveying students to understand how many of them have been cheating in a final exam. Because the information is very sensitive and students will most likely not want to share this information, they use the randomized polling protocol described in class. If 1000 students have been surveyed, and 300 of them responded \"yes\", what is the actual percentage of students who cheated in a final?"
   ]
  },
  {
   "cell_type": "markdown",
   "id": "2969c4d0-5c21-4ce9-b3b9-553adae452ed",
   "metadata": {},
   "source": [
    "<span style=\"color:blue\"> \n",
    "Let $x$ be the actual percentage of students who cheated in the final.\n",
    "    \n",
    "$$x * \\frac{3}{4} + (1 - x) * \\frac{1}{4} = \\frac{300}{1000} $$\n",
    "$$ \\frac{1}{4} + \\frac{x}{2}=\\frac{3}{10}$$\n",
    "$$x = \\frac{1}{10}$$ \n",
    "$$x = 10\\% $$ \n",
    "\n",
    "Therefore, we conclude that $x = 10\\% $ is the actual percentage of students who cheated in the final.\n",
    "</span>"
   ]
  },
  {
   "cell_type": "markdown",
   "id": "e9eb3371-a316-4197-99cc-6ec8674dc5cc",
   "metadata": {},
   "source": [
    "# Part 3: Data Governance \n",
    "\n",
    "Data governance refers to the set of policies, procedures and standards that companies and organization must adopt to ensure quality, sacurity and usability of the data in their possession. \n",
    "\n",
    "To gain a better understanding of what data governance is, why it is important and what common mistakes affect it, please read the following articles:\n",
    "- https://www.egnyte.com/guides/governance/data-ownership\n",
    "- https://atlan.com/data-governance-mistakes/#what-is-data-governance\n",
    "\n",
    "As you can see, the issue of data governance is complex and multifaceted. A group of experts with a variety of experties is necessary to design and implement a robust data governance plan. Still, we can train ourselves to spot the most common mistakes when we see them. Take, for example, the following fictitional scenario (co-authored in collaboration with [ChatGPT](https://chat.openai.com/))\n",
    "\n",
    "\"SleekTech Solutions\" is a cutting-edge technology company specializes in technologies related to artificial intelligence and data analytics. Their services include data analytics, big data processing, cloud computing, and Internet of Things (IoT). They offer their services to various industries, such as healthcare, finance, retail, manufacturing.\n",
    "\n",
    "The company is young, only founded in 2021, and has rapidly expanded. At their inception, they used to accumulate data in a vast digital repository known as the \"Data Lake.\" Initially, this seemed like a cost-effective solution to store all types of data, and they have not changed this strategy to this date. \n",
    "\n",
    "To increase agility, SleekTech's different divisions have significant autonomy over their data. This means that the same data may be recorded by different department using different standards and metrics. SleekTech also encourages a culture of openness. Employees have access to vast amounts of data, including sensitive customer information, to complete the tasks they are assigned to.\n",
    "\n",
    "SleekTech has been expanding rapidly. Founded in Canada, is now looking to expand into new markets including US and Europe.\n",
    "\n",
    "**Question 14:** using the readings as reference, outline at least 4 distinct mistakes that SleekTech Solutions is likely to commit because of their data governance strategy. \n"
   ]
  },
  {
   "cell_type": "markdown",
   "id": "036d0fd5-1c8d-4529-8b2a-dfa64709a2df",
   "metadata": {},
   "source": [
    "* <span style=\"color:blue\"> \n",
    "Ignoring privacy and security: In the question description, it says that \"SleekTech also encourages a culture of openness. Employees have access to vast amounts of data, including sensitive customer information, to complete the tasks they are assigned to\". All employees having little to no restriction on access privileges, including access to sensitive customer information, leads to a severe risk of security breaches and thus damage to the company's reputation. \n",
    "</span>\n",
    "\n",
    "* <span style=\"color:blue\"> \n",
    "Inadequate communication and training: In the question description, it says that \"The company is young, only founded in 2021, and has rapidly expanded\". The rapid growth and significant autonomy can lead to insufficient communication and training in the company. If we don't have adequate communication and training, \"data governance initiatives may be misunderstood or improperly implemented\" (atlan, 2023). The significant autonomy over the data within each department runs the risk of potential misunderstanding, improper implementation, and confusion over the same data.\n",
    "</span>\n",
    "\n",
    "* <span style=\"color:blue\"> \n",
    "Neglecting data quality: SleekTech Solutions' data lake contains data on various industries with no indication that they are segregated for organization, which can lead to unnecessary difficulties in relevant operations involving seeking relevant data. They are more likely to have data with poor quality and. Besides, different departments can use different standards and metrics on the same data, which can also lead to poor data quality and data inconsistency.\n",
    "</span>\n",
    "\n",
    "* <span style=\"color:blue\"> \n",
    "Failing to evolve and adapt: The lack of adaptation to more effective data storage options since they were founded in 2021 may lead to their data management tools becoming redundant and irrelevant compared to their competition. They have been using the same strategy for more than three years without accommodating changes for new technologies, even though this is a cost-effective solution.\n",
    "</span>"
   ]
  },
  {
   "cell_type": "markdown",
   "id": "56046e4c-b31b-44f8-9c00-318f4d9d45cb",
   "metadata": {},
   "source": [
    "# Final thoughts"
   ]
  },
  {
   "cell_type": "markdown",
   "id": "377f757a-844f-45fa-a121-d56ed43df056",
   "metadata": {
    "slideshow": {
     "slide_type": "slide"
    }
   },
   "source": [
    "1) If you have completed this assignment in a group, please write a detailed description of how you divided the work and how you helped each other completing it:"
   ]
  },
  {
   "cell_type": "markdown",
   "id": "11beafbb-f1a0-45dc-99cd-789d63d1aa44",
   "metadata": {},
   "source": [
    "* <span style=\"color:blue\">Jingyuan's response: We worked on the assignment separately, then collaborated to form our final assignment submission.</span>\n",
    "* <span style=\"color:blue\">Nicholas' response: We worked on the assignment separately, then collaborated to form our final assignment submission.</span>"
   ]
  },
  {
   "cell_type": "markdown",
   "id": "12470fa6-624f-4c12-9ce8-910bb9956f8f",
   "metadata": {},
   "source": [
    "2) Have you used ChatGPT or a similar Large Language Model (LLM) to complete this homework? Please describe how you used the tool. **We will never deduct points for using LLMs for completing homework assignments,** but this helps us understand how you are using the tool and advise you in case we believe you are using it incorrectly."
   ]
  },
  {
   "cell_type": "markdown",
   "id": "e1f6d615-3d74-4fbf-929f-1f8429cd1472",
   "metadata": {},
   "source": [
    "* <span style=\"color:blue\">Jingyuan's response: I used ChatGPT to help debug the codes for pseudonymization and re-identification from `pycanon`.</span>\n",
    "* <span style=\"color:blue\">Nicholas' response: I have used Poe to assist in accessing the `pycanon` module, as well as the encoding in Q10 with both the pseudonymization function idea and using `cryptography`.</span>"
   ]
  },
  {
   "cell_type": "markdown",
   "id": "5d645ceb-2173-445a-a98c-eb105296cb48",
   "metadata": {},
   "source": [
    "3) Have you struggled with some parts (or all) of this homework? Do you have pending questions you would like to ask? Write them down here!"
   ]
  },
  {
   "cell_type": "markdown",
   "id": "3847a222-b9f1-4315-b1fa-8640bf0a85ec",
   "metadata": {},
   "source": [
    "* <span style=\"color:blue\">Jingyuan's response: Pending questions: what is the mathematical definition of $\\epsilon$-differential privacy? How do we interpret $\\epsilon$?</span>\n",
    "* <span style=\"color:blue\">Nicholas' response: Encoding ideas for Q10.</span>"
   ]
  },
  {
   "cell_type": "code",
   "execution_count": null,
   "id": "45f4244d-a16d-4c61-be97-44154b842d56",
   "metadata": {},
   "outputs": [],
   "source": []
  }
 ],
 "metadata": {
  "kernelspec": {
   "display_name": "Python [conda env:dsci430]",
   "language": "python",
   "name": "conda-env-dsci430-py"
  },
  "language_info": {
   "codemirror_mode": {
    "name": "ipython",
    "version": 3
   },
   "file_extension": ".py",
   "mimetype": "text/x-python",
   "name": "python",
   "nbconvert_exporter": "python",
   "pygments_lexer": "ipython3",
   "version": "3.10.14"
  }
 },
 "nbformat": 4,
 "nbformat_minor": 5
}
